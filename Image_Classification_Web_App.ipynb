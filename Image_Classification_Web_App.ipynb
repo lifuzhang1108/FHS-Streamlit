{
 "cells": [
  {
   "cell_type": "markdown",
   "metadata": {
    "id": "tHxbCcQYO1-s"
   },
   "source": [
    "This video is supporting code for my video - https://youtu.be/AIDo3GO9t5A"
   ]
  },
  {
   "cell_type": "code",
   "execution_count": 1,
   "metadata": {
    "colab": {
     "base_uri": "https://localhost:8080/",
     "height": 690
    },
    "id": "j5C8c_IfYHfH",
    "outputId": "04681d81-1cdd-454a-c2b5-6615691b2597"
   },
   "outputs": [
    {
     "name": "stdout",
     "output_type": "stream",
     "text": [
      "Requirement already up-to-date: ipykernel in /Users/alexzhang/anaconda3/lib/python3.7/site-packages (5.4.3)\n",
      "Requirement already satisfied, skipping upgrade: traitlets>=4.1.0 in /Users/alexzhang/anaconda3/lib/python3.7/site-packages (from ipykernel) (4.3.3)\n",
      "Requirement already satisfied, skipping upgrade: appnope; platform_system == \"Darwin\" in /Users/alexzhang/anaconda3/lib/python3.7/site-packages (from ipykernel) (0.1.0)\n",
      "Requirement already satisfied, skipping upgrade: ipython>=5.0.0 in /Users/alexzhang/anaconda3/lib/python3.7/site-packages (from ipykernel) (7.9.0)\n",
      "Requirement already satisfied, skipping upgrade: tornado>=4.2 in /Users/alexzhang/anaconda3/lib/python3.7/site-packages (from ipykernel) (6.0.3)\n",
      "Requirement already satisfied, skipping upgrade: jupyter-client in /Users/alexzhang/anaconda3/lib/python3.7/site-packages (from ipykernel) (5.3.4)\n",
      "Requirement already satisfied, skipping upgrade: ipython-genutils in /Users/alexzhang/anaconda3/lib/python3.7/site-packages (from traitlets>=4.1.0->ipykernel) (0.2.0)\n",
      "Requirement already satisfied, skipping upgrade: six in /Users/alexzhang/anaconda3/lib/python3.7/site-packages (from traitlets>=4.1.0->ipykernel) (1.13.0)\n",
      "Requirement already satisfied, skipping upgrade: decorator in /Users/alexzhang/anaconda3/lib/python3.7/site-packages (from traitlets>=4.1.0->ipykernel) (4.4.1)\n",
      "Requirement already satisfied, skipping upgrade: pickleshare in /Users/alexzhang/anaconda3/lib/python3.7/site-packages (from ipython>=5.0.0->ipykernel) (0.7.5)\n",
      "Requirement already satisfied, skipping upgrade: backcall in /Users/alexzhang/anaconda3/lib/python3.7/site-packages (from ipython>=5.0.0->ipykernel) (0.1.0)\n",
      "Requirement already satisfied, skipping upgrade: jedi>=0.10 in /Users/alexzhang/anaconda3/lib/python3.7/site-packages (from ipython>=5.0.0->ipykernel) (0.15.1)\n",
      "Requirement already satisfied, skipping upgrade: pexpect; sys_platform != \"win32\" in /Users/alexzhang/anaconda3/lib/python3.7/site-packages (from ipython>=5.0.0->ipykernel) (4.7.0)\n",
      "Requirement already satisfied, skipping upgrade: setuptools>=18.5 in /Users/alexzhang/anaconda3/lib/python3.7/site-packages (from ipython>=5.0.0->ipykernel) (46.1.3)\n",
      "Requirement already satisfied, skipping upgrade: prompt-toolkit<2.1.0,>=2.0.0 in /Users/alexzhang/anaconda3/lib/python3.7/site-packages (from ipython>=5.0.0->ipykernel) (2.0.10)\n",
      "Requirement already satisfied, skipping upgrade: pygments in /Users/alexzhang/anaconda3/lib/python3.7/site-packages (from ipython>=5.0.0->ipykernel) (2.4.2)\n",
      "Requirement already satisfied, skipping upgrade: pyzmq>=13 in /Users/alexzhang/anaconda3/lib/python3.7/site-packages (from jupyter-client->ipykernel) (18.1.0)\n",
      "Requirement already satisfied, skipping upgrade: jupyter-core>=4.6.0 in /Users/alexzhang/anaconda3/lib/python3.7/site-packages (from jupyter-client->ipykernel) (4.6.1)\n",
      "Requirement already satisfied, skipping upgrade: python-dateutil>=2.1 in /Users/alexzhang/anaconda3/lib/python3.7/site-packages (from jupyter-client->ipykernel) (2.8.1)\n",
      "Requirement already satisfied, skipping upgrade: parso>=0.5.0 in /Users/alexzhang/anaconda3/lib/python3.7/site-packages (from jedi>=0.10->ipython>=5.0.0->ipykernel) (0.5.1)\n",
      "Requirement already satisfied, skipping upgrade: ptyprocess>=0.5 in /Users/alexzhang/anaconda3/lib/python3.7/site-packages (from pexpect; sys_platform != \"win32\"->ipython>=5.0.0->ipykernel) (0.6.0)\n",
      "Requirement already satisfied, skipping upgrade: wcwidth in /Users/alexzhang/anaconda3/lib/python3.7/site-packages (from prompt-toolkit<2.1.0,>=2.0.0->ipython>=5.0.0->ipykernel) (0.1.7)\n",
      "\u001b[33mWARNING: You are using pip version 20.0.2; however, version 20.3.3 is available.\n",
      "You should consider upgrading via the '/Users/alexzhang/anaconda3/bin/python -m pip install --upgrade pip' command.\u001b[0m\n"
     ]
    }
   ],
   "source": [
    "!pip install -U ipykernel"
   ]
  },
  {
   "cell_type": "code",
   "execution_count": 2,
   "metadata": {
    "colab": {
     "base_uri": "https://localhost:8080/",
     "height": 163
    },
    "id": "uxclE-m8LZa6",
    "outputId": "319bd314-7215-4651-958b-841a62886671"
   },
   "outputs": [
    {
     "name": "stdout",
     "output_type": "stream",
     "text": [
      "\u001b[33mWARNING: You are using pip version 20.0.2; however, version 20.3.3 is available.\r\n",
      "You should consider upgrading via the '/Users/alexzhang/anaconda3/bin/python -m pip install --upgrade pip' command.\u001b[0m\r\n"
     ]
    }
   ],
   "source": [
    "!pip install -q streamlit"
   ]
  },
  {
   "cell_type": "code",
   "execution_count": 3,
   "metadata": {
    "colab": {
     "base_uri": "https://localhost:8080/",
     "height": 237
    },
    "id": "a3gBR5EsiIa7",
    "outputId": "4e180790-d975-4fab-d05b-d8bffeb27f59"
   },
   "outputs": [
    {
     "name": "stdout",
     "output_type": "stream",
     "text": [
      "Requirement already satisfied: pyngrok in /Users/alexzhang/anaconda3/lib/python3.7/site-packages (5.0.1)\n",
      "Requirement already satisfied: PyYAML in /Users/alexzhang/anaconda3/lib/python3.7/site-packages (from pyngrok) (5.3.1)\n",
      "\u001b[33mWARNING: You are using pip version 20.0.2; however, version 20.3.3 is available.\n",
      "You should consider upgrading via the '/Users/alexzhang/anaconda3/bin/python -m pip install --upgrade pip' command.\u001b[0m\n"
     ]
    }
   ],
   "source": [
    "!pip install pyngrok"
   ]
  },
  {
   "cell_type": "markdown",
   "metadata": {
    "id": "xEjZmh1V078P"
   },
   "source": [
    "Update the token below from creating an account in ngrok website\n",
    "\n",
    "You can ignore Ngrok step completely if you are not looking to expose your app to internet\n",
    "\n"
   ]
  },
  {
   "cell_type": "code",
   "execution_count": 4,
   "metadata": {
    "cellView": "both",
    "colab": {
     "base_uri": "https://localhost:8080/",
     "height": 35
    },
    "id": "YjoAEsIEh-oZ",
    "outputId": "d3b5a7b4-1499-44c5-f590-0a2afa27ffa8"
   },
   "outputs": [
    {
     "name": "stdout",
     "output_type": "stream",
     "text": [
      "Authtoken saved to configuration file: /Users/alexzhang/.ngrok2/ngrok.yml\r\n"
     ]
    }
   ],
   "source": [
    "!ngrok authtoken 1n7R0cFLO5VBmFJkuUw8wR63Goa_Q63ZfTeNJPbckzXv5BVV"
   ]
  },
  {
   "cell_type": "code",
   "execution_count": 5,
   "metadata": {
    "colab": {
     "base_uri": "https://localhost:8080/",
     "height": 35
    },
    "id": "RuNpGDdZY3WW",
    "outputId": "8873ea48-b853-468f-fef5-caffac20fac9"
   },
   "outputs": [
    {
     "name": "stdout",
     "output_type": "stream",
     "text": [
      "Overwriting score.py\n"
     ]
    }
   ],
   "source": [
    "%%writefile score.py\n",
    "import pickle\n",
    "import cv2 \n",
    "import tensorflow as tf\n",
    "import numpy as np\n",
    "import streamlit as st\n",
    "from PIL import Image\n",
    "import requests\n",
    "from io import BytesIO\n",
    "import os\n",
    "import seaborn as sns\n",
    "import matplotlib.pyplot as plt\n",
    "st.set_page_config(page_title='Clock Drawing Test', initial_sidebar_state = 'auto')\n",
    "\n",
    "st.set_option('deprecation.showfileUploaderEncoding', False)\n",
    "st.title(\"Clock Image Classifier\")\n",
    "\n",
    "st.text(\"select clock Image for prediction\")\n",
    "hide_streamlit_style = \"\"\"\n",
    "            <style>\n",
    "            #MainMenu {visibility: hidden;}\n",
    "            footer {visibility: hidden;}\n",
    "            </style>\n",
    "            \"\"\"\n",
    "st.markdown(hide_streamlit_style, unsafe_allow_html=True) \n",
    "@st.cache(allow_output_mutation=True)\n",
    "def load_model():\n",
    "  model = tf.keras.models.load_model('./')\n",
    "  return model\n",
    "\n",
    "with st.spinner('Loading Model Into Memory....'):\n",
    "  model = load_model()\n",
    "\n",
    "classes=['demented','normal']\n",
    "\n",
    "def scale(image):\n",
    "  image = tf.cast(image, tf.float32)\n",
    "  image /= 255.0\n",
    "\n",
    "  return tf.image.resize(image,[128,128])\n",
    "\n",
    "def decode_img(image):\n",
    "  img = tf.image.decode_jpeg(image, channels=3)\n",
    "  img = scale(img)\n",
    "  return np.expand_dims(img, axis=0)\n",
    "\n",
    "\n",
    "\n",
    "# st.title(\"Upload + Classification Example\")\n",
    "types= [\"png\",\"jpg\"]\n",
    "uploaded_file = st.file_uploader(\"Choose an image...\", type=types )\n",
    "if uploaded_file is not None:\n",
    "    image = Image.open(uploaded_file)\n",
    "    st.image(image, caption='Uploaded Image.', use_column_width=True)\n",
    "    \n",
    "\n",
    "    image = image.convert(\"RGB\")\n",
    "    image = np.asarray(image, dtype=np.float32) / 255\n",
    "    image = image[:, :, :3]\n",
    "    image = cv2.resize(image, (128, 128))\n",
    "    \n",
    "    st.write(\"\")\n",
    "    st.write(\"Classifying...\")\n",
    "    res = model.predict(np.array([image]))\n",
    "    st.write(\"likelihood for dementia:\") \n",
    "    st.write(res[0][0]) \n",
    "    label =np.argmax(res,axis=1)\n",
    "#     st.write(classes[label[0]]) \n",
    "    \n",
    "    with open('hist.pkl','rb') as f:\n",
    "         x = pickle.load(f)\n",
    "    p = res[0][0]\n",
    "    fig, ax = plt.subplots()\n",
    "    ax=sns.distplot(x, hist = False, kde = True,\n",
    "                     kde_kws = {'linewidth': 3},\n",
    "                     label = \"likelihood for dementia\")\n",
    "    ax.axvline(p, 0,5)\n",
    "    ax.text(p, 5, 'your score')\n",
    "    st.pyplot(fig)"
   ]
  },
  {
   "cell_type": "code",
   "execution_count": 6,
   "metadata": {},
   "outputs": [
    {
     "ename": "OSError",
     "evalue": "Background processes not supported.",
     "output_type": "error",
     "traceback": [
      "\u001b[0;31m---------------------------------------------------------------------------\u001b[0m",
      "\u001b[0;31mOSError\u001b[0m                                   Traceback (most recent call last)",
      "\u001b[0;32m<ipython-input-6-d1e1fb53158a>\u001b[0m in \u001b[0;36m<module>\u001b[0;34m\u001b[0m\n\u001b[0;32m----> 1\u001b[0;31m \u001b[0mget_ipython\u001b[0m\u001b[0;34m(\u001b[0m\u001b[0;34m)\u001b[0m\u001b[0;34m.\u001b[0m\u001b[0msystem\u001b[0m\u001b[0;34m(\u001b[0m\u001b[0;34m'nohup streamlit run score.py &'\u001b[0m\u001b[0;34m)\u001b[0m\u001b[0;34m\u001b[0m\u001b[0;34m\u001b[0m\u001b[0m\n\u001b[0m",
      "\u001b[0;32m~/anaconda3/lib/python3.7/site-packages/ipykernel/zmqshell.py\u001b[0m in \u001b[0;36msystem_piped\u001b[0;34m(self, cmd)\u001b[0m\n\u001b[1;32m    621\u001b[0m             \u001b[0;31m# os.system() or use ip.system=ip.system_raw\u001b[0m\u001b[0;34m\u001b[0m\u001b[0;34m\u001b[0m\u001b[0;34m\u001b[0m\u001b[0m\n\u001b[1;32m    622\u001b[0m             \u001b[0;31m# if they really want a background process.\u001b[0m\u001b[0;34m\u001b[0m\u001b[0;34m\u001b[0m\u001b[0;34m\u001b[0m\u001b[0m\n\u001b[0;32m--> 623\u001b[0;31m             \u001b[0;32mraise\u001b[0m \u001b[0mOSError\u001b[0m\u001b[0;34m(\u001b[0m\u001b[0;34m\"Background processes not supported.\"\u001b[0m\u001b[0;34m)\u001b[0m\u001b[0;34m\u001b[0m\u001b[0;34m\u001b[0m\u001b[0m\n\u001b[0m\u001b[1;32m    624\u001b[0m \u001b[0;34m\u001b[0m\u001b[0m\n\u001b[1;32m    625\u001b[0m         \u001b[0;31m# we explicitly do NOT return the subprocess status code, because\u001b[0m\u001b[0;34m\u001b[0m\u001b[0;34m\u001b[0m\u001b[0;34m\u001b[0m\u001b[0m\n",
      "\u001b[0;31mOSError\u001b[0m: Background processes not supported."
     ]
    }
   ],
   "source": [
    "!nohup streamlit run score.py &"
   ]
  },
  {
   "cell_type": "code",
   "execution_count": null,
   "metadata": {
    "colab": {
     "base_uri": "https://localhost:8080/",
     "height": 35
    },
    "id": "YB0kwgXqhdeo",
    "outputId": "3d9af946-1d73-4048-bbc1-02cc5bcc775e"
   },
   "outputs": [
    {
     "name": "stdout",
     "output_type": "stream",
     "text": [
      "\u001b7\u001b[?47h\u001b[?1h\u001b=\u0002\u0007\u001b[H\u001b[2J\u001b[m\u001b[38;5;6m\u001b[48;5;16m\u001b[1m\u001b[1;1Hngrok\u001b[m\u001b[38;5;16m\u001b[48;5;16m \u001b[m\u001b[38;5;7m\u001b[48;5;16mby\u001b[m\u001b[38;5;16m\u001b[48;5;16m \u001b[m\u001b[38;5;6m\u001b[48;5;16m\u001b[1m@inconshreveable\u001b[m\u001b[38;5;16m\u001b[48;5;16m                                       \u001b[m\u001b[38;5;7m\u001b[48;5;16m(Ctrl+C to quit)\u001b[m\u001b[38;5;16m\u001b[48;5;16m\u001b[2;1H                                                                                \u001b[m\u001b[38;5;6m\u001b[48;5;16m\u001b[3;1HSession Status                connecting\u001b[m\u001b[38;5;16m\u001b[48;5;16m                                        \u001b[m\u001b[38;5;7m\u001b[48;5;16m\u001b[4;1HVersion                       2.3.35\u001b[m\u001b[38;5;16m\u001b[48;5;16m                                            \u001b[m\u001b[38;5;7m\u001b[48;5;16m\u001b[5;1HRegion                        United States (us)\u001b[m\u001b[38;5;16m\u001b[48;5;16m                                \u001b[m\u001b[38;5;7m\u001b[48;5;16m\u001b[6;1HWeb Interface                 http://127.0.0.1:4040\u001b[m\u001b[38;5;16m\u001b[48;5;16m                             \u001b[7;1H                                                                                \u001b[m\u001b[38;5;7m\u001b[48;5;16m\u001b[8;1HConnections                   ttl     opn     rt1     rt5     p50     p90     \u001b[m\u001b[38;5;16m\u001b[48;5;16m  \u001b[m\u001b[38;5;7m\u001b[48;5;16m\u001b[9;1H                              0       0       0.00    0.00    0.00    0.00    \u001b[m\u001b[38;5;16m\u001b[48;5;16m  \u001b[10;1H                                                                                \u001b[11;1H                                                                                \u001b[12;1H                                                                                \u001b[13;1H                                                                                \u001b[14;1H                                                                                \u001b[15;1H                                                                                \u001b[16;1H                                                                                \u001b[17;1H                                                                                \u001b[18;1H                                                                                \u001b[19;1H                                                                                \u001b[20;1H                                                                                \u001b[21;1H                                                                                \u001b[22;1H                                                                                \u001b[23;1H                                                                                \u001b[24;1H                                                                                \u001b[m\u001b[38;5;2m\u001b[48;5;16m\u001b[3;1HSession Status                online\u001b[m\u001b[38;5;16m\u001b[48;5;16m    \u001b[m\u001b[38;5;7m\u001b[48;5;16m\u001b[4;1HAccount\u001b[4;31HLifu Zhang (Plan: Free)\u001b[5;1HV\u001b[5;3Hrsion\u001b[5;31H2.3.35\u001b[m\u001b[38;5;16m\u001b[48;5;16m            \u001b[m\u001b[38;5;7m\u001b[48;5;16m\u001b[6;1HR\u001b[6;3Hgio\u001b[6;7H       \u001b[6;31HUnited States (us)\u001b[m\u001b[38;5;16m\u001b[48;5;16m   \u001b[m\u001b[38;5;7m\u001b[48;5;16m\u001b[7;1HWeb Interface                 http://127.0.0.1:4040\u001b[8;1HF\u001b[8;3Hrward\u001b[8;9Hng \u001b[8;31Hh\u001b[8;33Htps://bf6d9a0b5f53.ngrok.io\u001b[8;61H-> http://localhost:\u001b[m\u001b[38;5;16m\u001b[48;5;16m\u001b[9;1H                                                                              \u001b[m\u001b[38;5;7m\u001b[48;5;16m\u001b[10;1HConnections                   ttl     opn     rt1     rt5     p50     p90     \u001b[11;1H                              0       0       0.00    0.00    0.00    0.00    \u001b[8;35H:/\u001b[8;38Hbf6d9a0b5f53.ngrok.io -> ht\u001b[8;66Hp:/\u001b[8;70Hlocalhost:8\u001b[9;1HForwarding                    https://bf6d9a0b5f53.ngrok.io -> http://localhost:\u001b[m\u001b[38;5;16m\u001b[48;5;16m\u001b[10;1H                                                                              \u001b[m\u001b[38;5;7m\u001b[48;5;16m\u001b[11;1HConnections\u001b[11;31Httl\u001b[11;39Hopn\u001b[11;47Hrt1 \u001b[11;55Hrt5 \u001b[11;63Hp5\u001b[11;66H \u001b[11;71Hp9\u001b[11;74H \u001b[12;1H                              0       0       0.00    0.00    0.00    0.00    \u001b[12;39H1\u001b[14;1HHTTP Requests\u001b[15;1H-------------\u001b[17;1HGET\u001b[17;5H/\u001b[17;32H200 OK\u001b[12;39H2\u001b[m\u001b[38;5;16m\u001b[48;5;16m\u001b[17;32H      \u001b[m\u001b[38;5;7m\u001b[48;5;16m\u001b[18;1HGET\u001b[18;5H/\u001b[18;32H200 OK\u001b[17;32H200 OK\u001b[17;6Hstatic/css/9.cbc425bc.chunk.css\u001b[m\u001b[38;5;16m\u001b[48;5;16m \u001b[18;32H      \u001b[m\u001b[38;5;7m\u001b[48;5;16m200 OK\u001b[19;1HGET\u001b[19;5H/\u001b[19;38H200 OK\u001b[17;38H200 OK\u001b[12;39H5\u001b[17;13Hj\u001b[17;15H/main.fa59adfa.chunk.js\u001b[m\u001b[38;5;16m\u001b[48;5;16m      \u001b[m\u001b[38;5;7m\u001b[48;5;16m\u001b[18;6Hstatic/css/main.f9685a16.chunk.css\u001b[m\u001b[38;5;16m\u001b[48;5;16m    \u001b[m\u001b[38;5;7m\u001b[48;5;16m\u001b[19;6Hstatic/js/9.e0304601.chunk.js\u001b[m\u001b[38;5;16m\u001b[48;5;16m\u001b[19;38H      \u001b[m\u001b[38;5;7m\u001b[48;5;16m\u001b[20;1HGET\u001b[20;5H/static/css/9.cbc425bc.chunk.css\u001b[20;41H200 OK\u001b[21;1HGET\u001b[21;5H/\u001b[21;41H200 OK\u001b[22;1HGET\u001b[22;5H/\u001b[22;41H200 OK\u001b[18;41H200 OK\u001b[17;41H200 OK\u001b[19;41H200 OK\u001b[12;31H1\u001b[12;39H4\u001b[12;65H33\u001b[12;73H33\u001b[12;50H2\u001b[12;31H2\u001b[12;39H3\u001b[12;65H94\u001b[12;71H1\u001b[12;73H54\u001b[17;13Hmedi\u001b[17;18H/IBMPlexSans-Regular.71a4981f.ttf\u001b[18;13Hj\u001b[18;15H/main.fa59adfa.chunk.js\u001b[m\u001b[38;5;16m\u001b[48;5;16m  \u001b[18;41H      \u001b[m\u001b[38;5;7m\u001b[48;5;16m\u001b[18;52H200 OK\u001b[19;13Hc\u001b[19;15Hs/main.f9685a16.chunk.css\u001b[m\u001b[38;5;16m\u001b[48;5;16m\u001b[19;41H      \u001b[m\u001b[38;5;7m\u001b[48;5;16m\u001b[19;52H200 OK\u001b[20;13Hj\u001b[20;15H/9.e030\u001b[20;23H601.chunk.js\u001b[m\u001b[38;5;16m\u001b[48;5;16m  \u001b[20;41H      \u001b[m\u001b[38;5;7m\u001b[48;5;16m\u001b[20;52H200 OK\u001b[21;6Hstatic/css/9.cbc425bc.chunk.css\u001b[m\u001b[38;5;16m\u001b[48;5;16m\u001b[21;41H      \u001b[m\u001b[38;5;7m\u001b[48;5;16m\u001b[21;52H200 OK\u001b[m\u001b[38;5;16m\u001b[48;5;16m\u001b[22;41H      \u001b[m\u001b[38;5;7m\u001b[48;5;16m\u001b[22;52H200 OK\u001b[23;1HGET\u001b[23;5H/\u001b[23;52H200 OK\u001b[17;52H200 OK\u001b[17;6Hfavicon.png\u001b[m\u001b[38;5;16m\u001b[48;5;16m                                  \u001b[17;52H      \u001b[m\u001b[38;5;7m\u001b[48;5;16m\u001b[18;13Hmedi\u001b[18;18H/IBMPlexSans-Regular.71a4981f.ttf\u001b[19;13Hj\u001b[19;15H/main.fa59adfa.chunk.js\u001b[m\u001b[38;5;16m\u001b[48;5;16m  \u001b[m\u001b[38;5;7m\u001b[48;5;16m\u001b[20;13Hc\u001b[20;15Hs/main.f9685a16.chunk.css\u001b[21;13Hj\u001b[21;15H/9.e030\u001b[21;23H601.chunk.js\u001b[m\u001b[38;5;16m\u001b[48;5;16m  \u001b[m\u001b[38;5;7m\u001b[48;5;16m\u001b[22;6Hstatic/css/9.cbc425bc.chunk.css\u001b[24;1HGET\u001b[24;5H/\u001b[24;52H200 OK\u001b[17;52H200 OK\u001b[12;39H4\u001b[17;6Hstream\u001b[m\u001b[38;5;16m\u001b[48;5;16m     \u001b[17;52H      \u001b[m\u001b[38;5;7m\u001b[48;5;16m\u001b[18;6Hfavicon.png\u001b[m\u001b[38;5;16m\u001b[48;5;16m                                  \u001b[m\u001b[38;5;7m\u001b[48;5;16m\u001b[19;13Hmedi\u001b[19;18H/IBMPlexSans-Regular.71a4981f.ttf\u001b[20;13Hj\u001b[20;15H/main.fa59adfa.chunk.js\u001b[m\u001b[38;5;16m\u001b[48;5;16m  \u001b[m\u001b[38;5;7m\u001b[48;5;16m\u001b[21;13Hc\u001b[21;15Hs/main.f9685a16.chunk.css\u001b[22;13Hj\u001b[22;15H/9.e030\u001b[22;23H601.chunk.js\u001b[m\u001b[38;5;16m\u001b[48;5;16m  \u001b[m\u001b[38;5;7m\u001b[48;5;16m\u001b[23;6Hstatic/css/9.cbc425bc.chunk.css\u001b[17;52H101 Switching Protocols\u001b[17;8Hatic/media/IBMPlexMono-Regular.bee53c8c.ttf\u001b[m\u001b[38;5;16m\u001b[48;5;16m\u001b[17;52H                       \u001b[m\u001b[38;5;7m\u001b[48;5;16m\u001b[18;6Hstatic/media/IBMPlexSans-Bold.5a0eb98b.ttf\u001b[m\u001b[38;5;16m\u001b[48;5;16m\u001b[18;52H      \u001b[m\u001b[38;5;7m\u001b[48;5;16m\u001b[19;8Hream\u001b[m\u001b[38;5;16m\u001b[48;5;16m                                       \u001b[m\u001b[38;5;7m\u001b[48;5;16m\u001b[19;52H1\u001b[19;54H1\u001b[19;56HSwitching Protocols\u001b[20;6Hfavicon.png\u001b[m\u001b[38;5;16m\u001b[48;5;16m                     \u001b[m\u001b[38;5;7m\u001b[48;5;16m\u001b[21;13Hmedia/IBMPlexS\u001b[21;28Hns-Regular.71a4981f.ttf\u001b[22;16Hmain.fa59adfa.chunk.js\u001b[23;17Hmain.f9685a16.chunk.css\u001b[24;6Hstatic/js/9.e0304601.chunk.js\u001b[18;52H200 OK\u001b[12;39H6\u001b[17;13Hjs/29.e9e1695a.chunk.js\u001b[m\u001b[38;5;16m\u001b[48;5;16m               \u001b[m\u001b[38;5;7m\u001b[48;5;16m\u001b[18;13Hjs/8.c93f4e8a.chunk.js\u001b[m\u001b[38;5;16m\u001b[48;5;16m             \u001b[18;52H      \u001b[m\u001b[38;5;7m\u001b[48;5;16m\u001b[19;8Hatic/media/IBMPlexMono-Regular.bee53c8c.ttf\u001b[m\u001b[38;5;16m\u001b[48;5;16m\u001b[19;52H                       \u001b[m\u001b[38;5;7m\u001b[48;5;16m\u001b[20;6Hstatic/media/IBMPlexSans-Bold.5a0eb98b.ttf\u001b[21;8Hream\u001b[m\u001b[38;5;16m\u001b[48;5;16m                                       \u001b[m\u001b[38;5;7m\u001b[48;5;16m\u001b[21;52H1\u001b[21;54H1\u001b[21;56HSwitching Protocols\u001b[22;6Hfavicon.png\u001b[m\u001b[38;5;16m\u001b[48;5;16m                     \u001b[m\u001b[38;5;7m\u001b[48;5;16m\u001b[23;13Hmedia/IBMPlexS\u001b[23;28Hns-Regular.71a4981f.ttf\u001b[24;16Hmain.fa59adfa.chunk.js\u001b[19;52H200 OK\u001b[17;52H200 OK\u001b[18;52H200 OK\u001b[12;31H3\u001b[12;39H5\u001b[12;63H1\u001b[12;65H5\u001b[12;71H6\u001b[12;73H85\u001b[12;31H4\u001b[12;39H4\u001b[12;65H35\u001b[12;50H6\u001b[12;58H1\u001b[12;50H5\u001b[12;50H4\u001b[12;50H3\u001b[12;50H2\u001b[17;1HPU\u001b[17;6Hupload_file/c5c86e4\u001b[17;26H-a8a1-4bc7-a7ac-06128a3a4ae7/16\u001b[m\u001b[38;5;16m\u001b[48;5;16m \u001b[m\u001b[38;5;7m\u001b[48;5;16m\u001b[18;16H29.e9e1695a.chunk.js\u001b[m\u001b[38;5;16m\u001b[48;5;16m\u001b[18;52H      \u001b[m\u001b[38;5;7m\u001b[48;5;16m200 OK\u001b[19;13Hjs/8.c93f4e8a.chunk.js\u001b[m\u001b[38;5;16m\u001b[48;5;16m                \u001b[19;52H      \u001b[m\u001b[38;5;7m\u001b[48;5;16m200 OK\u001b[20;26HMo\u001b[20;29Ho\u001b[20;31HRegular.bee53c8c.ttf\u001b[m\u001b[38;5;16m\u001b[48;5;16m\u001b[20;52H      \u001b[m\u001b[38;5;7m\u001b[48;5;16m200 OK\u001b[21;8Hatic/media/IBMPlexSans-Bold.5a0eb98b.ttf\u001b[m\u001b[38;5;16m\u001b[48;5;16m\u001b[21;52H      \u001b[m\u001b[38;5;7m\u001b[48;5;16m200 OK\u001b[m\u001b[38;5;16m\u001b[48;5;16m           \u001b[m\u001b[38;5;7m\u001b[48;5;16m\u001b[22;6Hstream\u001b[m\u001b[38;5;16m\u001b[48;5;16m     \u001b[22;52H      \u001b[m\u001b[38;5;7m\u001b[48;5;16m101 Switching Protocols\u001b[23;6Hfavicon.png\u001b[m\u001b[38;5;16m\u001b[48;5;16m                                  \u001b[23;52H      \u001b[m\u001b[38;5;7m\u001b[48;5;16m200 OK\u001b[24;13Hmedi\u001b[24;18H/IBMPlexSans-Regular.71a4981f.ttf\u001b[m\u001b[38;5;16m\u001b[48;5;16m\u001b[24;52H      \u001b[m\u001b[38;5;7m\u001b[48;5;16m200 OK\u001b[17;58H200 OK\u001b[17;2HOST\u001b[m\u001b[38;5;16m\u001b[48;5;16m \u001b[m\u001b[38;5;7m\u001b[48;5;16m/upload_file\u001b[m\u001b[38;5;16m\u001b[48;5;16m                                       \u001b[17;58H      \u001b[m\u001b[38;5;7m\u001b[48;5;16m\u001b[18;1HPU\u001b[m\u001b[38;5;16m\u001b[48;5;16m\u001b[18;5H \u001b[m\u001b[38;5;7m\u001b[48;5;16m/upload_file/c5c8\u001b[18;24He45-a8a1-4bc7-a7ac-06128a3a4ae7/1\u001b[m\u001b[38;5;16m\u001b[48;5;16m\u001b[19;5H \u001b[m\u001b[38;5;7m\u001b[48;5;16m/static/js/29.e9e1695a.chunk.js\u001b[m\u001b[38;5;16m\u001b[48;5;16m\u001b[20;5H \u001b[m\u001b[38;5;7m\u001b[48;5;16m/static/js/8.c93f4\u001b[20;25H8a.chunk.js\u001b[m\u001b[38;5;16m\u001b[48;5;16m               \u001b[21;5H \u001b[m\u001b[38;5;7m\u001b[48;5;16m/static/media/IBMPlexMono-Regul\u001b[21;38Hr.\u001b[21;41Hee53c8c.ttf\u001b[m\u001b[38;5;16m\u001b[48;5;16m\u001b[22;5H \u001b[m\u001b[38;5;7m\u001b[48;5;16m/static/media/IBMPlexSans-Bold.5a0eb98b.ttf\u001b[22;58H2\u001b[22;60H0\u001b[22;62HOK\u001b[m\u001b[38;5;16m\u001b[48;5;16m                 \u001b[23;5H \u001b[m\u001b[38;5;7m\u001b[48;5;16m/stream\u001b[m\u001b[38;5;16m\u001b[48;5;16m    \u001b[m\u001b[38;5;7m\u001b[48;5;16m\u001b[23;58H1\u001b[23;60H1\u001b[23;62HSwitching Protocols\u001b[m\u001b[38;5;16m\u001b[48;5;16m\u001b[24;5H \u001b[m\u001b[38;5;7m\u001b[48;5;16m/f\u001b[24;9Hv\u001b[24;12Hon.png\u001b[m\u001b[38;5;16m\u001b[48;5;16m                                 "
     ]
    },
    {
     "name": "stdout",
     "output_type": "stream",
     "text": [
      "\u001b[m\u001b[38;5;7m\u001b[48;5;16m\u001b[17;58H200 OK\u001b[17;1HGET\u001b[m\u001b[38;5;16m\u001b[48;5;16m \u001b[m\u001b[38;5;7m\u001b[48;5;16m\u001b[17;7Hstatic/js/38.74638a00.chunk.js\u001b[m\u001b[38;5;16m\u001b[48;5;16m\u001b[17;58H      \u001b[m\u001b[38;5;7m\u001b[48;5;16m\u001b[18;2HOST\u001b[m\u001b[38;5;16m\u001b[48;5;16m\u001b[18;18H                                       \u001b[m\u001b[38;5;7m\u001b[48;5;16m\u001b[19;1HPU\u001b[19;7Hupload_file/c5c86e4\u001b[19;27H-a8a1-4bc7-a7ac-06128a3a4ae7/1\u001b[20;17H29.e9e1695a.chunk.js\u001b[21;14Hjs/8.c93f4e8a.chunk.js\u001b[m\u001b[38;5;16m\u001b[48;5;16m                \u001b[m\u001b[38;5;7m\u001b[48;5;16m\u001b[22;27HMo\u001b[22;30Ho\u001b[22;32HRegular.bee53c8c.ttf\u001b[23;9Hatic/media/IBMPlexSans-Bold.5a0eb98b.ttf\u001b[23;58H2\u001b[23;60H0\u001b[23;62HOK\u001b[m\u001b[38;5;16m\u001b[48;5;16m                 \u001b[m\u001b[38;5;7m\u001b[48;5;16m\u001b[24;7Hstream\u001b[m\u001b[38;5;16m\u001b[48;5;16m     \u001b[m\u001b[38;5;7m\u001b[48;5;16m\u001b[24;58H1\u001b[24;60H1\u001b[24;62HSwitching Protocols\u001b[17;58H200 OK\u001b[17;7Hmedia/b4218b808\u001b[17;23H9cf2fc99d2e398285f322e65bfcf59b856\u001b[m\u001b[38;5;16m\u001b[48;5;16m\u001b[17;58H      \u001b[m\u001b[38;5;7m\u001b[48;5;16m\u001b[18;1HGET\u001b[m\u001b[38;5;16m\u001b[48;5;16m \u001b[m\u001b[38;5;7m\u001b[48;5;16m\u001b[18;7Hstatic/js/38.74638a00.chunk.js\u001b[19;2HOST\u001b[m\u001b[38;5;16m\u001b[48;5;16m\u001b[19;18H                                       \u001b[m\u001b[38;5;7m\u001b[48;5;16m\u001b[20;1HPU\u001b[20;7Hupload_file/c5c86e4\u001b[20;27H-a8a1-4bc7-a7ac-06128a3a4ae7/1\u001b[21;17H29.e9e1695a.chunk.js\u001b[22;14Hjs/8.c93f4e8a.chunk.js\u001b[m\u001b[38;5;16m\u001b[48;5;16m                \u001b[m\u001b[38;5;7m\u001b[48;5;16m\u001b[23;27HMo\u001b[23;30Ho\u001b[23;32HRegular.bee53c8c.ttf\u001b[24;9Hatic/media/IBMPlexSans-Bold.5a0eb98b.ttf\u001b[24;58H2\u001b[24;60H0\u001b[24;62HOK\u001b[m\u001b[38;5;16m\u001b[48;5;16m                 \u001b[m\u001b[38;5;7m\u001b[48;5;16m\u001b[17;58H200 OK\u001b[17;13H73b061c43978\u001b[17;26Haef7816406444db653801e\u001b[17;49H20fca20c\u001b[m\u001b[38;5;16m\u001b[48;5;16m\u001b[17;58H      \u001b[m\u001b[38;5;7m\u001b[48;5;16m\u001b[18;7Hmedia/b4218b808\u001b[18;23H9cf2fc99d2e398285f322e65bfcf59b856\u001b[19;1HGET\u001b[m\u001b[38;5;16m\u001b[48;5;16m \u001b[m\u001b[38;5;7m\u001b[48;5;16m\u001b[19;7Hstatic/js/38.74638a00.chunk.js\u001b[20;2HOST\u001b[m\u001b[38;5;16m\u001b[48;5;16m\u001b[20;18H                                       \u001b[m\u001b[38;5;7m\u001b[48;5;16m\u001b[21;1HPU\u001b[21;7Hupload_file/c5c86e4\u001b[21;27H-a8a1-4bc7-a7ac-06128a3a4ae7/1\u001b[22;17H29.e9e1695a.chunk.js\u001b[23;14Hjs/8.c93f4e8a.chunk.js\u001b[m\u001b[38;5;16m\u001b[48;5;16m                \u001b[m\u001b[38;5;7m\u001b[48;5;16m\u001b[24;27HMo\u001b[24;30Ho\u001b[24;32HRegular.bee53c8c.ttf\u001b[17;58H200 OK\u001b[12;50H1\u001b[12;50H0\u001b[12;31H5\u001b[12;39H3\u001b[12;65H54\u001b[12;71H300.10\u001b[12;50H2\u001b[12;50H1\u001b[12;31H6\u001b[12;39H2\u001b[12;63H4\u001b[12;65H20\u001b[12;72H62\u001b[12;75H73\u001b[12;31H7\u001b[12;39H1\u001b[12;63H6\u001b[12;65H85\u001b[12;73H8\u001b[12;75H50\u001b[12;50H4\u001b[12;50H3\u001b[12;50H2\u001b[12;50H1\u001b[12;50H0\u001b[12;58H0\u001b[12;31H8\u001b[12;39H0\u001b[12;63H153.48\u001b[12;71H1002.89\u001b[12;50H2\u001b[12;39H1\u001b[17;7Hh\u001b[17;9Halthz\u001b[m\u001b[38;5;16m\u001b[48;5;16m                                           \u001b[17;58H      \u001b[m\u001b[38;5;7m\u001b[48;5;16m\u001b[18;13H73b061c43978\u001b[18;26Haef7816406444db653801e\u001b[18;49H20fca20c58576f96cbf0.png\u001b[18;75H200 OK\u001b[19;7Hmedia/b4218b808\u001b[19;23H9cf2fc99d2e398285f322e65bfcf59b856f87c331b006d.png\u001b[19;75H200 OK\u001b[20;1HGET\u001b[m\u001b[38;5;16m\u001b[48;5;16m \u001b[m\u001b[38;5;7m\u001b[48;5;16m\u001b[20;7Hstatic/js/38.74638a00.chunk.js\u001b[m\u001b[38;5;16m\u001b[48;5;16m\u001b[20;58H      \u001b[m\u001b[38;5;7m\u001b[48;5;16m\u001b[20;75H200 OK\u001b[21;2HOST\u001b[m\u001b[38;5;16m\u001b[48;5;16m\u001b[21;18H                                       \u001b[21;58H      \u001b[m\u001b[38;5;7m\u001b[48;5;16m\u001b[21;75H200 OK\u001b[22;1HPU\u001b[22;7Hupload_file/c5c86e4\u001b[22;27H-a8a1-4bc7-a7ac-06128a3a4ae7/169292825040089700\u001b[22;75H200 OK\u001b[23;17H29.e9e1695a.chunk.js\u001b[m\u001b[38;5;16m\u001b[48;5;16m\u001b[23;58H      \u001b[m\u001b[38;5;7m\u001b[48;5;16m\u001b[23;75H200 OK\u001b[24;14Hjs/8.c93f4e8a.chunk.js\u001b[m\u001b[38;5;16m\u001b[48;5;16m                \u001b[24;58H      \u001b[m\u001b[38;5;7m\u001b[48;5;16m\u001b[24;75H200 OK\u001b[17;75H200 OK\u001b[12;39H2\u001b[17;7Hstream\u001b[m\u001b[38;5;16m\u001b[48;5;16m \u001b[17;75H      \u001b[m\u001b[38;5;7m\u001b[48;5;16m\u001b[18;7Hh\u001b[18;9Halthz\u001b[m\u001b[38;5;16m\u001b[48;5;16m                                                           \u001b[m\u001b[38;5;7m\u001b[48;5;16m\u001b[19;13H73b061c43978\u001b[19;26Haef7816406444db653801e\u001b[19;49H20fca20c5\u001b[19;59H576f96cbf0\u001b[20;7Hmedia/b4218b808\u001b[20;23H9cf2fc99d2e398285f322e65bfcf59b856f87c331b006d.png\u001b[21;1HGET\u001b[m\u001b[38;5;16m\u001b[48;5;16m \u001b[m\u001b[38;5;7m\u001b[48;5;16m\u001b[21;7Hstatic/js/38.74638a00.chunk.js\u001b[22;2HOST\u001b[m\u001b[38;5;16m\u001b[48;5;16m\u001b[22;18H                                                        \u001b[m\u001b[38;5;7m\u001b[48;5;16m\u001b[23;1HPU\u001b[23;7Hupload_file/c5c86e4\u001b[23;27H-a8a1-4bc7-a7ac-06128a3a4ae7/169292825040089700\u001b[24;17H29.e9e1695a.chunk.js\u001b[17;58H101 Switching Protocols\u001b[18;58H200 OK\u001b[m\u001b[38;5;16m\u001b[48;5;16m\u001b[18;75H      \u001b[19;57H \u001b[m\u001b[38;5;7m\u001b[48;5;16m200 OK\u001b[m\u001b[38;5;16m\u001b[48;5;16m         \u001b[19;75H      \u001b[20;57H \u001b[m\u001b[38;5;7m\u001b[48;5;16m200 OK\u001b[m\u001b[38;5;16m\u001b[48;5;16m         \u001b[20;75H      \u001b[m\u001b[38;5;7m\u001b[48;5;16m\u001b[21;58H200 OK\u001b[m\u001b[38;5;16m\u001b[48;5;16m\u001b[21;75H      \u001b[m\u001b[38;5;7m\u001b[48;5;16m\u001b[22;58H200 OK\u001b[m\u001b[38;5;16m\u001b[48;5;16m\u001b[22;75H      \u001b[23;57H \u001b[m\u001b[38;5;7m\u001b[48;5;16m200 OK\u001b[m\u001b[38;5;16m\u001b[48;5;16m          \u001b[23;75H      \u001b[m\u001b[38;5;7m\u001b[48;5;16m\u001b[24;58H200 OK\u001b[m\u001b[38;5;16m\u001b[48;5;16m\u001b[24;75H      \u001b[m\u001b[38;5;7m\u001b[48;5;16m\u001b[12;50H1\u001b[12;50H0\u001b[12;31H9\u001b[12;39H1\u001b[12;63H300\u001b[12;67H05\u001b[12;50H2\u001b[12;58H1\u001b[12;50H1\u001b[12;58H0\u001b[12;50H0\u001b[12;39H3\u001b[17;1HPU\u001b[17;7Huplo\u001b[17;12Hd_file/c43c0c3e-3c9a-40ce-bcae-9c49e5e25a3a/1\u001b[m\u001b[38;5;16m\u001b[48;5;16m\u001b[17;58H                       \u001b[m\u001b[38;5;7m\u001b[48;5;16m\u001b[18;7Hstream\u001b[m\u001b[38;5;16m\u001b[48;5;16m \u001b[m\u001b[38;5;7m\u001b[48;5;16m\u001b[18;58H1\u001b[18;60H1\u001b[18;62HSwitching Protocols\u001b[19;7Hh\u001b[19;9Halthz\u001b[m\u001b[38;5;16m\u001b[48;5;16m                                           \u001b[m\u001b[38;5;7m\u001b[48;5;16m\u001b[20;13H73b061c43978\u001b[20;26Haef7816406444db653801e\u001b[20;49H20fca20c\u001b[21;7Hmedia/b4218b808\u001b[21;23H9cf2fc99d2e398285f322e65bfcf59b856\u001b[22;1HGET\u001b[m\u001b[38;5;16m\u001b[48;5;16m \u001b[m\u001b[38;5;7m\u001b[48;5;16m\u001b[22;7Hstatic/js/38.74638a00.chunk.js\u001b[23;2HOST\u001b[m\u001b[38;5;16m\u001b[48;5;16m\u001b[23;18H                                       \u001b[m\u001b[38;5;7m\u001b[48;5;16m\u001b[24;1HPU\u001b[24;7Hupload_file/c5c86e4\u001b[24;27H-a8a1-4bc7-a7ac-06128a3a4ae7/1\u001b[17;58H200 OK\u001b[17;2HOST\u001b[m\u001b[38;5;16m\u001b[48;5;16m\u001b[17;18H                                       \u001b[17;58H      \u001b[m\u001b[38;5;7m\u001b[48;5;16m\u001b[18;1HPU\u001b[18;7Huplo\u001b[18;12Hd_file/c43c0c3e-3c9a-40ce-bcae-9c49e5e25a3a/1\u001b[18;58H2\u001b[18;60H0\u001b[18;62HOK\u001b[m\u001b[38;5;16m\u001b[48;5;16m                 \u001b[m\u001b[38;5;7m\u001b[48;5;16m\u001b[19;7Hstream\u001b[m\u001b[38;5;16m\u001b[48;5;16m \u001b[m\u001b[38;5;7m\u001b[48;5;16m\u001b[19;58H1\u001b[19;60H1\u001b[19;62HSwitching Protocols\u001b[20;7Hh\u001b[20;9Halthz\u001b[m\u001b[38;5;16m\u001b[48;5;16m                                           \u001b[m\u001b[38;5;7m\u001b[48;5;16m\u001b[21;13H73b061c43978\u001b[21;26Haef7816406444db653801e\u001b[21;49H20fca20c\u001b[22;7Hmedia/b4218b808\u001b[22;23H9cf2fc99d2e398285f322e65bfcf59b856\u001b[23;1HGET\u001b[m\u001b[38;5;16m\u001b[48;5;16m \u001b[m\u001b[38;5;7m\u001b[48;5;16m\u001b[23;7Hstatic/js/38.74638a00.chunk.js\u001b[24;2HOST\u001b[m\u001b[38;5;16m\u001b[48;5;16m\u001b[24;18H                                       \u001b[m\u001b[38;5;7m\u001b[48;5;16m\u001b[17;58H200 OK\u001b[17;1HGET\u001b[m\u001b[38;5;16m\u001b[48;5;16m \u001b[m\u001b[38;5;7m\u001b[48;5;16m\u001b[17;7Hmedi\u001b[17;12H/b4218b80869cf2fc99d2e398285f322e65bfcf59b856\u001b[m\u001b[38;5;16m\u001b[48;5;16m\u001b[17;58H      \u001b[m\u001b[38;5;7m\u001b[48;5;16m\u001b[18;2HOST\u001b[m\u001b[38;5;16m\u001b[48;5;16m\u001b[18;18H                                       \u001b[m\u001b[38;5;7m\u001b[48;5;16m\u001b[19;1HPU\u001b[19;7Huplo\u001b[19;12Hd_file/c43c0c3e-3c9a-40ce-bcae-9c49e5e25a3a/1\u001b[19;58H2\u001b[19;60H0\u001b[19;62HOK\u001b[m\u001b[38;5;16m\u001b[48;5;16m                 \u001b[m\u001b[38;5;7m\u001b[48;5;16m\u001b[20;7Hstream\u001b[m\u001b[38;5;16m\u001b[48;5;16m \u001b[m\u001b[38;5;7m\u001b[48;5;16m\u001b[20;58H1\u001b[20;60H1\u001b[20;62HSwitching Protocols\u001b[21;7Hh\u001b[21;9Halthz\u001b[m\u001b[38;5;16m\u001b[48;5;16m                                           \u001b[m\u001b[38;5;7m\u001b[48;5;16m\u001b[22;13H73b061c43978\u001b[22;26Haef7816406444db653801e\u001b[22;49H20fca20c\u001b[23;7Hmedia/b4218b808\u001b[23;23H9cf2fc99d2e398285f322e65bfcf59b856\u001b[24;1HGET\u001b[m\u001b[38;5;16m\u001b[48;5;16m \u001b[m\u001b[38;5;7m\u001b[48;5;16m\u001b[24;7Hstatic/js/38.74638a00.chunk.js\u001b[m\u001b[38;5;6m\u001b[48;5;16m\u001b[17;58H304 Not Modified\u001b[m\u001b[38;5;7m\u001b[48;5;16m\u001b[17;13H73b061c43978\u001b[17;26Haef7816406444db653801e\u001b[17;49H20fca20c\u001b[m\u001b[38;5;16m\u001b[48;5;16m\u001b[17;58H                \u001b[m\u001b[38;5;7m\u001b[48;5;16m\u001b[18;1HGET\u001b[m\u001b[38;5;16m\u001b[48;5;16m \u001b[m\u001b[38;5;7m\u001b[48;5;16m\u001b[18;7Hmedi\u001b[18;12H/b4218b80869cf2fc99d2e398285f322e65bfcf59b856\u001b[m\u001b[38;5;6m\u001b[48;5;16m\u001b[18;58H304 Not Modified\u001b[m\u001b[38;5;7m\u001b[48;5;16m\u001b[19;2HOST\u001b[m\u001b[38;5;16m\u001b[48;5;16m\u001b[19;18H                                       \u001b[m\u001b[38;5;7m\u001b[48;5;16m\u001b[20;1HPU\u001b[20;7Huplo\u001b[20;12Hd_file/c43c0c3e-3c9a-40ce-bcae-9c49e5e25a3a/1\u001b[20;58H2\u001b[20;60H0\u001b[20;62HOK\u001b[m\u001b[38;5;16m\u001b[48;5;16m                 \u001b[m\u001b[38;5;7m\u001b[48;5;16m\u001b[21;7Hstream\u001b[m\u001b[38;5;16m\u001b[48;5;16m \u001b[m\u001b[38;5;7m\u001b[48;5;16m\u001b[21;58H1\u001b[21;60H1\u001b[21;62HSwitching Protocols\u001b[22;7Hh\u001b[22;9Halthz\u001b[m\u001b[38;5;16m\u001b[48;5;16m                                           \u001b[m\u001b[38;5;7m\u001b[48;5;16m\u001b[23;13H73b061c43978\u001b[23;26Haef7816406444db653801e\u001b[23;49H20fca20c\u001b[24;7Hmedia/b4218b808\u001b[24;23H9cf2fc99d2e398285f322e65bfcf59b856\u001b[m\u001b[38;5;6m\u001b[48;5;16m\u001b[17;58H304 Not Modified"
     ]
    },
    {
     "name": "stdout",
     "output_type": "stream",
     "text": [
      "\u001b[m\u001b[38;5;7m\u001b[48;5;16m\u001b[12;31H10\u001b[12;39H2\u001b[12;71H939.45 \u001b[12;32H1\u001b[12;39H1\u001b[12;71H876\u001b[12;75H01\u001b[12;50H3\u001b[12;58H1\u001b[12;50H2\u001b[12;50H1\u001b[12;58H0\u001b[12;50H0\u001b[12;39H3\u001b[17;1HPU\u001b[17;7Huplo\u001b[17;12Hd_file/\u001b[17;22Hc0c3e-3c9a-\u001b[17;35Hce-bcae-9c49\u001b[17;48H5e25a3a/1\u001b[m\u001b[38;5;16m\u001b[48;5;16m\u001b[17;58H                \u001b[m\u001b[38;5;7m\u001b[48;5;16m\u001b[18;13H73b061c43978\u001b[18;26Haef7816406444db653801e\u001b[18;49H20fca20c\u001b[19;1HGET\u001b[m\u001b[38;5;16m\u001b[48;5;16m \u001b[m\u001b[38;5;7m\u001b[48;5;16m\u001b[19;7Hmedi\u001b[19;12H/b4218b80869cf2fc99d2e398285f322e65bfcf59b856\u001b[m\u001b[38;5;6m\u001b[48;5;16m\u001b[19;58H304 Not Modified\u001b[m\u001b[38;5;7m\u001b[48;5;16m\u001b[20;2HOST\u001b[m\u001b[38;5;16m\u001b[48;5;16m\u001b[20;18H                                       \u001b[m\u001b[38;5;7m\u001b[48;5;16m\u001b[21;1HPU\u001b[21;7Huplo\u001b[21;12Hd_file/c43c0c3e-3c9a-40ce-bcae-9c49e5e25a3a/1\u001b[21;58H2\u001b[21;60H0\u001b[21;62HOK\u001b[m\u001b[38;5;16m\u001b[48;5;16m                 \u001b[m\u001b[38;5;7m\u001b[48;5;16m\u001b[22;7Hstream\u001b[m\u001b[38;5;16m\u001b[48;5;16m \u001b[m\u001b[38;5;7m\u001b[48;5;16m\u001b[22;58H1\u001b[22;60H1\u001b[22;62HSwitching Protocols\u001b[23;7Hh\u001b[23;9Halthz\u001b[m\u001b[38;5;16m\u001b[48;5;16m                                           \u001b[m\u001b[38;5;7m\u001b[48;5;16m\u001b[24;13H73b061c43978\u001b[24;26Haef7816406444db653801e\u001b[24;49H20fca20c\u001b[18;1HPU\u001b[18;7Huplo\u001b[18;12Hd_file/\u001b[18;22Hc0c3e-3c9a-\u001b[18;35Hce-bcae-9c49\u001b[18;48H5e25a3a/1\u001b[m\u001b[38;5;16m\u001b[48;5;16m\u001b[18;58H                \u001b[m\u001b[38;5;7m\u001b[48;5;16m\u001b[19;13H73b061c43978\u001b[19;26Haef7816406444db653801e\u001b[19;49H20fca20c\u001b[20;1HGET\u001b[m\u001b[38;5;16m\u001b[48;5;16m \u001b[m\u001b[38;5;7m\u001b[48;5;16m\u001b[20;7Hmedi\u001b[20;12H/b4218b80869cf2fc99d2e398285f322e65bfcf59b856\u001b[m\u001b[38;5;6m\u001b[48;5;16m\u001b[20;58H304 Not Modified\u001b[m\u001b[38;5;7m\u001b[48;5;16m\u001b[21;2HOST\u001b[m\u001b[38;5;16m\u001b[48;5;16m\u001b[21;18H                                       \u001b[m\u001b[38;5;7m\u001b[48;5;16m\u001b[22;1HPU\u001b[22;7Huplo\u001b[22;12Hd_file/c43c0c3e-3c9a-40ce-bcae-9c49e5e25a3a/1\u001b[22;58H2\u001b[22;60H0\u001b[22;62HOK\u001b[m\u001b[38;5;16m\u001b[48;5;16m                 \u001b[m\u001b[38;5;7m\u001b[48;5;16m\u001b[23;7Hstream\u001b[m\u001b[38;5;16m\u001b[48;5;16m \u001b[m\u001b[38;5;7m\u001b[48;5;16m\u001b[23;58H1\u001b[23;60H1\u001b[23;62HSwitching Protocols\u001b[24;7Hh\u001b[24;9Halthz\u001b[m\u001b[38;5;16m\u001b[48;5;16m                                           \u001b[m\u001b[38;5;7m\u001b[48;5;16m\u001b[17;58H200 OK\u001b[18;58H200 OK\u001b[12;39H4\u001b[17;2HOST\u001b[m\u001b[38;5;16m\u001b[48;5;16m\u001b[17;18H                                       \u001b[17;58H      \u001b[m\u001b[38;5;7m\u001b[48;5;16m\u001b[19;1HPU\u001b[19;7Huplo\u001b[19;12Hd_file/\u001b[19;22Hc0c3e-3c9a-\u001b[19;35Hce-bcae-9c49\u001b[19;48H5e25a3a/1\u001b[19;58H200 OK\u001b[m\u001b[38;5;16m\u001b[48;5;16m          \u001b[m\u001b[38;5;7m\u001b[48;5;16m\u001b[20;13H73b061c43978\u001b[20;26Haef7816406444db653801e\u001b[20;49H20fca20c\u001b[21;1HGET\u001b[m\u001b[38;5;16m\u001b[48;5;16m \u001b[m\u001b[38;5;7m\u001b[48;5;16m\u001b[21;7Hmedi\u001b[21;12H/b4218b80869cf2fc99d2e398285f322e65bfcf59b856\u001b[m\u001b[38;5;6m\u001b[48;5;16m\u001b[21;58H304 Not Modified\u001b[m\u001b[38;5;7m\u001b[48;5;16m\u001b[22;2HOST\u001b[m\u001b[38;5;16m\u001b[48;5;16m\u001b[22;18H                                       \u001b[m\u001b[38;5;7m\u001b[48;5;16m\u001b[23;1HPU\u001b[23;7Huplo\u001b[23;12Hd_file/c43c0c3e-3c9a-40ce-bcae-9c49e5e25a3a/1\u001b[23;58H2\u001b[23;60H0\u001b[23;62HOK\u001b[m\u001b[38;5;16m\u001b[48;5;16m                 \u001b[m\u001b[38;5;7m\u001b[48;5;16m\u001b[24;7Hstream\u001b[m\u001b[38;5;16m\u001b[48;5;16m \u001b[m\u001b[38;5;7m\u001b[48;5;16m\u001b[24;58H1\u001b[24;60H1\u001b[24;62HSwitching Protocols\u001b[17;58H200 OK\u001b[12;32H2\u001b[12;39H3\u001b[12;72H12\u001b[12;75H57\u001b[17;1HGET\u001b[m\u001b[38;5;16m\u001b[48;5;16m \u001b[m\u001b[38;5;7m\u001b[48;5;16m\u001b[17;7Hmedi\u001b[17;12H/40d4a52ecf7110a3f8a8879f455bea161a00e0d4039b\u001b[m\u001b[38;5;16m\u001b[48;5;16m\u001b[17;58H      \u001b[m\u001b[38;5;7m\u001b[48;5;16m\u001b[18;2HOST\u001b[m\u001b[38;5;16m\u001b[48;5;16m\u001b[18;18H                                       \u001b[m\u001b[38;5;7m\u001b[48;5;16m\u001b[20;1HPU\u001b[20;7Huplo\u001b[20;12Hd_file/\u001b[20;22Hc0c3e-3c9a-\u001b[20;35Hce-bcae-9c49\u001b[20;48H5e25a3a/1\u001b[20;58H200 OK\u001b[m\u001b[38;5;16m\u001b[48;5;16m          \u001b[m\u001b[38;5;7m\u001b[48;5;16m\u001b[21;13H73b061c43978\u001b[21;26Haef7816406444db653801e\u001b[21;49H20fca20c\u001b[22;1HGET\u001b[m\u001b[38;5;16m\u001b[48;5;16m \u001b[m\u001b[38;5;7m\u001b[48;5;16m\u001b[22;7Hmedi\u001b[22;12H/b4218b80869cf2fc99d2e398285f322e65bfcf59b856\u001b[m\u001b[38;5;6m\u001b[48;5;16m\u001b[22;58H304 Not Modified\u001b[m\u001b[38;5;7m\u001b[48;5;16m\u001b[23;2HOST\u001b[m\u001b[38;5;16m\u001b[48;5;16m\u001b[23;18H                                       \u001b[m\u001b[38;5;7m\u001b[48;5;16m\u001b[24;1HPU\u001b[24;7Huplo\u001b[24;12Hd_file/c43c0c3e-3c9a-40ce-bcae-9c49e5e25a3a/1\u001b[24;58H2\u001b[24;60H0\u001b[24;62HOK\u001b[m\u001b[38;5;16m\u001b[48;5;16m                 \u001b[m\u001b[38;5;7m\u001b[48;5;16m\u001b[17;58H200 OK\u001b[17;13He\u001b[17;15H699470d0b9297fd383c4a9\u001b[17;38He994e6759fc7733ae4\u001b[m\u001b[38;5;16m\u001b[48;5;16m\u001b[17;58H      \u001b[m\u001b[38;5;7m\u001b[48;5;16m\u001b[18;1HGET\u001b[m\u001b[38;5;16m\u001b[48;5;16m \u001b[m\u001b[38;5;7m\u001b[48;5;16m\u001b[18;7Hmedi\u001b[18;12H/40d4a52ecf7110a3f8a8879f455bea161a00e0d4039b\u001b[19;2HOST\u001b[m\u001b[38;5;16m\u001b[48;5;16m\u001b[19;18H                                       \u001b[m\u001b[38;5;7m\u001b[48;5;16m\u001b[21;1HPU\u001b[21;7Huplo\u001b[21;12Hd_file/\u001b[21;22Hc0c3e-3c9a-\u001b[21;35Hce-bcae-9c49\u001b[21;48H5e25a3a/1\u001b[21;58H200 OK\u001b[m\u001b[38;5;16m\u001b[48;5;16m          \u001b[m\u001b[38;5;7m\u001b[48;5;16m\u001b[22;13H73b061c43978\u001b[22;26Haef7816406444db653801e\u001b[22;49H20fca20c\u001b[23;1HGET\u001b[m\u001b[38;5;16m\u001b[48;5;16m \u001b[m\u001b[38;5;7m\u001b[48;5;16m\u001b[23;7Hmedi\u001b[23;12H/b4218b80869cf2fc99d2e398285f322e65bfcf59b856\u001b[m\u001b[38;5;6m\u001b[48;5;16m\u001b[23;58H304 Not Modified\u001b[m\u001b[38;5;7m\u001b[48;5;16m\u001b[24;2HOST\u001b[m\u001b[38;5;16m\u001b[48;5;16m\u001b[24;18H                                       \u001b[m\u001b[38;5;7m\u001b[48;5;16m\u001b[17;58H200 OK\u001b[12;50H2\u001b[17;1HPU\u001b[17;7Huplo\u001b[17;12Hd_file/c43c0c3e-3c9a-40ce-bcae-9c4\u001b[17;47He5e25a3a/16929282\u001b[18;13He\u001b[18;15H699470d0b9297fd383c4a9\u001b[18;38He994e6759fc7733ae4\u001b[18;57Hbbe\u001b[18;61H551\u001b[18;65H200 OK\u001b[19;1HGET\u001b[m\u001b[38;5;16m\u001b[48;5;16m \u001b[m\u001b[38;5;7m\u001b[48;5;16m\u001b[19;7Hmedi\u001b[19;12H/40d4a52ecf7110a3f8a8879f455bea161a00e0d4039be6237d7\u001b[19;65H200 OK\u001b[20;2HOST\u001b[m\u001b[38;5;16m\u001b[48;5;16m\u001b[20;18H                                       \u001b[20;58H      \u001b[m\u001b[38;5;7m\u001b[48;5;16m\u001b[20;65H200 OK\u001b[21;57H6929282\u001b[21;65H200 OK\u001b[22;1HPU\u001b[22;7Huplo\u001b[22;12Hd_file/\u001b[22;22Hc0c3e-3c9a-\u001b[22;35Hce-bcae-9c49\u001b[22;48H5e25a3a/16929282\u001b[m\u001b[38;5;16m\u001b[48;5;16m \u001b[m\u001b[38;5;7m\u001b[48;5;16m200 OK\u001b[m\u001b[38;5;16m\u001b[48;5;16m   \u001b[m\u001b[38;5;7m\u001b[48;5;16m\u001b[23;13H73b061c43978\u001b[23;26Haef7816406444db653801e\u001b[23;49H20fca20c58576f9\u001b[m\u001b[38;5;16m\u001b[48;5;16m \u001b[m\u001b[38;5;6m\u001b[48;5;16m304 Not Modified\u001b[m\u001b[38;5;7m\u001b[48;5;16m\u001b[24;1HGET\u001b[m\u001b[38;5;16m\u001b[48;5;16m \u001b[m\u001b[38;5;7m\u001b[48;5;16m\u001b[24;7Hmedi\u001b[24;12H/b4218b80869cf2fc99d2e398285f322e65bfcf59b856f87c331\u001b[m\u001b[38;5;6m\u001b[48;5;16m\u001b[24;65H304 Not Modified\u001b[m\u001b[38;5;7m\u001b[48;5;16m\u001b[18;1HPU\u001b[18;7Huplo\u001b[18;12Hd_file/c43c0c3e-3c9a-40ce-bcae-9c4\u001b[18;47He5e25a3a/16929282\u001b[m\u001b[38;5;16m\u001b[48;5;16m\u001b[18;65H      \u001b[m\u001b[38;5;7m\u001b[48;5;16m\u001b[19;13He\u001b[19;15H699470d0b9297fd383c4a9\u001b[19;38He994e6759fc7733ae4\u001b[19;57Hbbe0551\u001b[20;1HGET\u001b[m\u001b[38;5;16m\u001b[48;5;16m \u001b[m\u001b[38;5;7m\u001b[48;5;16m\u001b[20;7Hmedi\u001b[20;12H/40d4a52ecf7110a3f8a8879f455bea161a00e0d4039be6237d7\u001b[21;2HOST\u001b[m\u001b[38;5;16m\u001b[48;5;16m\u001b[21;18H                                              \u001b[m\u001b[38;5;7m\u001b[48;5;16m\u001b[23;1HPU\u001b[23;7Huplo\u001b[23;12Hd_file/\u001b[23;22Hc0c3e-3c9a-\u001b[23;35Hce-bcae-9c49\u001b[23;48H5e25a3a/16929282\u001b[23;65H200 OK\u001b[m\u001b[38;5;16m\u001b[48;5;16m          \u001b[m\u001b[38;5;7m\u001b[48;5;16m\u001b[24;13H73b061c43978\u001b[24;26Haef7816406444db653801e\u001b[24;49H20fca20c5\u001b[24;59H576f9\u001b[18;65H200 OK\u001b[17;65H200 OK\u001b[12;39H4\u001b[17;2HOST\u001b[m\u001b[38;5;16m\u001b[48;5;16m\u001b[17;18H                                              \u001b[17;65H      \u001b[m\u001b[38;5;7m\u001b[48;5;16m\u001b[19;1HPU\u001b[19;7Huplo\u001b[19;12Hd_file/c43c0c3e-3c9a-40ce-bcae-9c4\u001b[19;47He5e25a3a/16929282\u001b[20;13He\u001b[20;15H699470d0b9297fd383c4a9\u001b[20;38He994e6759fc7733ae4\u001b[20;57Hbbe0551\u001b[21;1HGET\u001b[m\u001b[38;5;16m\u001b[48;5;16m \u001b[m\u001b[38;5;7m\u001b[48;5;16m\u001b[21;7Hmedi\u001b[21;12H/40d4a52ecf7110a3f8a8879f455bea161a00e0d4039be6237d7\u001b[22;2HOST\u001b[m\u001b[38;5;16m\u001b[48;5;16m\u001b[22;18H                                              \u001b[m\u001b[38;5;7m\u001b[48;5;16m\u001b[24;1HPU\u001b[24;7Huplo\u001b[24;12Hd_file/\u001b[24;22Hc0c3e-3c9a-\u001b[24;35Hce-bcae-9c49\u001b[24;48H5e25a3a/16929282\u001b[24;65H200 OK\u001b[m\u001b[38;5;16m\u001b[48;5;16m          \u001b[m\u001b[38;5;7m\u001b[48;5;16m\u001b[17;65H200 OK\u001b[12;32H3\u001b[12;39H3\u001b[12;71H749\u001b[12;75H13\u001b[12;50H3\u001b[12;58H1\u001b[12;39H4\u001b[17;2HUT\u001b[m\u001b[38;5;16m\u001b[48;5;16m \u001b[m\u001b[38;5;7m\u001b[48;5;16m\u001b[17;18H/c43c0c3e-3c9a-40ce-bcae-9c49e5e25a3a/16929282504\u001b[17;68H089700\u001b[18;64H504\u001b[18;68H089700\u001b[19;2HOST\u001b[m\u001b[38;5;16m\u001b[48;5;16m\u001b[19;18H                                              \u001b[19;65H      \u001b[m\u001b[38;5;7m\u001b[48;5;16m\u001b[19;75H200 OK\u001b[20;1HPU\u001b[20;7Huplo\u001b[20;12Hd_file/c43c0c3e-3c9a-40ce-bcae-9c4\u001b[20;47He5e25a3a/16929282504\u001b[20;68H089700\u001b[20;75H200 OK\u001b[21;1HPU\u001b[21;7Huplo\u001b[21;12Hd_file/c43c0c3e-\u001b[21;29Hc9\u001b[21;32H-40ce-bca\u001b[21;42H-9c49e5\u001b[21;50H25a3a/169\u001b[21;60H9282504\u001b[21;68H089700\u001b[21;75H200 OK\u001b[22;1HGET\u001b[m\u001b[38;5;16m\u001b[48;5;16m \u001b[m\u001b[38;5;7m\u001b[48;5;16m\u001b[22;7Hmedi\u001b[22;12H/e0699470d0b9297fd383c4a94e994e6759fc7733ae4bbbe0551afeed.png\u001b[22;75H200 OK\u001b[23;1HGE\u001b[23;7Hmedi\u001b[23;12H/40d4a52ecf7110a\u001b[23;29Hf8\u001b[23;32H8879f455b\u001b[23;42Ha161a00\u001b[23;50H0d4039be6\u001b[23;60H37d7f1d76.png\u001b[23;75H200 OK\u001b[24;2HOST\u001b[m\u001b[38;5;16m\u001b[48;5;16m\u001b[24;18H                                              \u001b[24;65H      \u001b[m\u001b[38;5;7m\u001b[48;5;16m\u001b[24;75H200 OK\u001b[18;75H200 OK\u001b[17;2HOST\u001b[m\u001b[38;5;16m\u001b[48;5;16m\u001b[17;18H                                                        \u001b[18;75H      \u001b[m\u001b[38;5;7m\u001b[48;5;16m\u001b[19;2HUT\u001b[m\u001b[38;5;16m\u001b[48;5;16m \u001b[m\u001b[38;5;7m\u001b[48;5;16m\u001b[19;18H/c43c0c3e-3c9a-40ce-bcae-9c49e5e25a3a/169292825040089700\u001b[20;2HOST\u001b[m\u001b[38;5;16m\u001b[48;5;16m\u001b[20;18H                                                        \u001b[m\u001b[38;5;7m\u001b[48;5;16m\u001b[22;1HPU\u001b[22;7Huplo\u001b[22;12Hd_file/c43c0c3e-3c9a-40ce-bcae-9c4\u001b[22;47He5e25a3a/169292825040089700\u001b[23;13He\u001b[23;15H699470d0b9297fd383c4a9\u001b[23;38He994e6759fc7733ae4\u001b[23;57Hbbe0551afeed\u001b[24;1HGET\u001b[m\u001b[38;5;16m\u001b[48;5;16m \u001b[m\u001b[38;5;7m\u001b[48;5;16m\u001b[24;7Hmedi\u001b[24;12H/40d4a52ecf7110a3f8a8879f455bea161a00e0d4039be6237d7f1d76.png\u001b[18;75H200 OK"
     ]
    },
    {
     "name": "stdout",
     "output_type": "stream",
     "text": [
      "\u001b[17;75H200 OK\u001b[12;32H4\u001b[12;39H3\u001b[12;63H153\u001b[12;67H4\u001b[12;71H685\u001b[12;75H69\u001b[17;1HGET\u001b[m\u001b[38;5;16m\u001b[48;5;16m \u001b[m\u001b[38;5;7m\u001b[48;5;16m\u001b[17;7Hmedi\u001b[17;12H/8d093a90383e730e2eb7475aaa708c99bc2603b6fbfffbdf5407bad4.png\u001b[m\u001b[38;5;16m\u001b[48;5;16m\u001b[17;75H      \u001b[m\u001b[38;5;7m\u001b[48;5;16m\u001b[18;2HOST\u001b[m\u001b[38;5;16m\u001b[48;5;16m\u001b[18;18H                                                        \u001b[m\u001b[38;5;7m\u001b[48;5;16m\u001b[20;2HUT\u001b[m\u001b[38;5;16m\u001b[48;5;16m \u001b[m\u001b[38;5;7m\u001b[48;5;16m\u001b[20;18H/c43c0c3e-3c9a-40ce-bcae-9c49e5e25a3a/169292825040089700\u001b[21;2HOST\u001b[m\u001b[38;5;16m\u001b[48;5;16m\u001b[21;18H                                                        \u001b[m\u001b[38;5;7m\u001b[48;5;16m\u001b[23;1HPU\u001b[23;7Huplo\u001b[23;12Hd_file/c43c0c3e-3c9a-40ce-bcae-9c4\u001b[23;47He5e25a3a/169292825040089700\u001b[24;13He\u001b[24;15H699470d0b9297fd383c4a9\u001b[24;38He994e6759fc7733ae4\u001b[24;57Hbbe0551afeed\u001b[17;75H200 OK\u001b[12;50H4\u001b[17;13Hcca2ddf25310b417d658131d87b901b\u001b[17;45Heec72e6f2cbccc5b914b458a\u001b[m\u001b[38;5;16m\u001b[48;5;16m\u001b[17;75H      \u001b[m\u001b[38;5;7m\u001b[48;5;16m\u001b[18;1HGET\u001b[m\u001b[38;5;16m\u001b[48;5;16m \u001b[m\u001b[38;5;7m\u001b[48;5;16m\u001b[18;7Hmedi\u001b[18;12H/8d093a90383e730e2eb7475aaa708c99bc2603b6fbfffbdf5407bad4.png\u001b[19;2HOST\u001b[m\u001b[38;5;16m\u001b[48;5;16m\u001b[19;18H                                                        \u001b[m\u001b[38;5;7m\u001b[48;5;16m\u001b[21;2HUT\u001b[m\u001b[38;5;16m\u001b[48;5;16m \u001b[m\u001b[38;5;7m\u001b[48;5;16m\u001b[21;18H/c43c0c3e-3c9a-40ce-bcae-9c49e5e25a3a/169292825040089700\u001b[22;2HOST\u001b[m\u001b[38;5;16m\u001b[48;5;16m\u001b[22;18H                                                        \u001b[m\u001b[38;5;7m\u001b[48;5;16m\u001b[24;1HPU\u001b[24;7Huplo\u001b[24;12Hd_file/c43c0c3e-3c9a-40ce-bcae-9c4\u001b[24;47He5e25a3a/169292825040089700\u001b[17;75H200 OK\u001b[17;1HPU\u001b[17;7Huplo\u001b[17;12Hd_file/c43c0c3e-3c9a-40ce-bcae-9c49e5e25a3a/169292825040089700\u001b[m\u001b[38;5;16m\u001b[48;5;16m\u001b[17;75H      \u001b[m\u001b[38;5;7m\u001b[48;5;16m\u001b[18;13Hcca2ddf25310b417d658131d87b901b\u001b[18;45Heec72e6f2cbccc5b914b458a\u001b[19;1HGET\u001b[m\u001b[38;5;16m\u001b[48;5;16m \u001b[m\u001b[38;5;7m\u001b[48;5;16m\u001b[19;7Hmedi\u001b[19;12H/8d093a90383e730e2eb7475aaa708c99bc2603b6fbfffbdf5407bad4.png\u001b[20;2HOST\u001b[m\u001b[38;5;16m\u001b[48;5;16m\u001b[20;18H                                                        \u001b[m\u001b[38;5;7m\u001b[48;5;16m\u001b[22;2HUT\u001b[m\u001b[38;5;16m\u001b[48;5;16m \u001b[m\u001b[38;5;7m\u001b[48;5;16m\u001b[22;18H/c43c0c3e-3c9a-40ce-bcae-9c49e5e25a3a/169292825040089700\u001b[23;2HOST\u001b[m\u001b[38;5;16m\u001b[48;5;16m\u001b[23;18H                                                        \u001b[m\u001b[38;5;7m\u001b[48;5;16m\u001b[18;1HPU\u001b[18;7Huplo\u001b[18;12Hd_file/c43c0c3e-3c9a-40ce-bcae-9c49e5e25a3a/169292825040089700\u001b[m\u001b[38;5;16m\u001b[48;5;16m\u001b[18;75H      \u001b[m\u001b[38;5;7m\u001b[48;5;16m\u001b[19;13Hcca2ddf25310b417d658131d87b901b\u001b[19;45Heec72e6f2cbccc5b914b458a\u001b[20;1HGET\u001b[m\u001b[38;5;16m\u001b[48;5;16m \u001b[m\u001b[38;5;7m\u001b[48;5;16m\u001b[20;7Hmedi\u001b[20;12H/8d093a90383e730e2eb7475aaa708c99bc2603b6fbfffbdf5407bad4.png\u001b[21;2HOST\u001b[m\u001b[38;5;16m\u001b[48;5;16m\u001b[21;18H                                                        \u001b[m\u001b[38;5;7m\u001b[48;5;16m\u001b[23;2HUT\u001b[m\u001b[38;5;16m\u001b[48;5;16m \u001b[m\u001b[38;5;7m\u001b[48;5;16m\u001b[23;18H/c43c0c3e-3c9a-40ce-bcae-9c49e5e25a3a/169292825040089700\u001b[24;2HOST\u001b[m\u001b[38;5;16m\u001b[48;5;16m\u001b[24;18H                                                        \u001b[m\u001b[38;5;7m\u001b[48;5;16m\u001b[18;75H200 OK\u001b[17;75H200 OK\u001b[12;39H4\u001b[17;2HOST\u001b[m\u001b[38;5;16m\u001b[48;5;16m\u001b[17;18H                                                        \u001b[17;75H      \u001b[m\u001b[38;5;7m\u001b[48;5;16m\u001b[19;1HPU\u001b[19;7Huplo\u001b[19;12Hd_file/c43c0c3e-3c9a-40ce-bcae-9c49e5e25a3a/169292825040089700\u001b[20;13Hcca2ddf25310b417d658131d87b901b\u001b[20;45Heec72e6f2cbccc5b914b458a\u001b[21;1HGET\u001b[m\u001b[38;5;16m\u001b[48;5;16m \u001b[m\u001b[38;5;7m\u001b[48;5;16m\u001b[21;7Hmedi\u001b[21;12H/8d093a90383e730e2eb7475aaa708c99bc2603b6fbfffbdf5407bad4.png\u001b[22;2HOST\u001b[m\u001b[38;5;16m\u001b[48;5;16m\u001b[22;18H                                                        \u001b[m\u001b[38;5;7m\u001b[48;5;16m\u001b[24;2HUT\u001b[m\u001b[38;5;16m\u001b[48;5;16m \u001b[m\u001b[38;5;7m\u001b[48;5;16m\u001b[24;18H/c43c0c3e-3c9a-40ce-bcae-9c49e5e25a3a/169292825040089700\u001b[17;75H200 OK\u001b[12;32H5\u001b[12;39H3\u001b[12;63H6.85  \u001b[12;72H22\u001b[12;75H25\u001b[17;1HGET\u001b[m\u001b[38;5;16m\u001b[48;5;16m \u001b[m\u001b[38;5;7m\u001b[48;5;16m\u001b[17;7Hmedi\u001b[17;12H/b4218b80869cf2fc99d2e398285f322e65bfcf59b856f87c331b006d.png\u001b[m\u001b[38;5;16m\u001b[48;5;16m\u001b[17;75H      \u001b[m\u001b[38;5;7m\u001b[48;5;16m\u001b[18;2HOST\u001b[m\u001b[38;5;16m\u001b[48;5;16m\u001b[18;18H                                                        \u001b[m\u001b[38;5;7m\u001b[48;5;16m\u001b[20;1HPU\u001b[20;7Huplo\u001b[20;12Hd_file/c43c0c3e-3c9a-40ce-bcae-9c49e5e25a3a/169292825040089700\u001b[21;13Hcca2ddf25310b417d658131d87b901b\u001b[21;45Heec72e6f2cbccc5b914b458a\u001b[22;1HGET\u001b[m\u001b[38;5;16m\u001b[48;5;16m \u001b[m\u001b[38;5;7m\u001b[48;5;16m\u001b[22;7Hmedi\u001b[22;12H/8d093a90383e730e2eb7475aaa708c99bc2603b6fbfffbdf5407bad4.png\u001b[23;2HOST\u001b[m\u001b[38;5;16m\u001b[48;5;16m\u001b[23;18H                                                        \u001b[17;64H \u001b[m\u001b[38;5;6m\u001b[48;5;16m304 Not Modified\u001b[m\u001b[38;5;7m\u001b[48;5;16m\u001b[18;65H200 OK\u001b[m\u001b[38;5;16m\u001b[48;5;16m\u001b[18;75H      \u001b[19;64H \u001b[m\u001b[38;5;7m\u001b[48;5;16m20\u001b[19;68H OK\u001b[m\u001b[38;5;16m\u001b[48;5;16m   \u001b[19;75H      \u001b[20;64H \u001b[m\u001b[38;5;7m\u001b[48;5;16m20\u001b[20;68H OK\u001b[m\u001b[38;5;16m\u001b[48;5;16m   \u001b[20;75H      \u001b[21;64H \u001b[m\u001b[38;5;7m\u001b[48;5;16m200 OK\u001b[m\u001b[38;5;16m\u001b[48;5;16m  \u001b[21;75H      \u001b[22;64H \u001b[m\u001b[38;5;7m\u001b[48;5;16m200 OK\u001b[m\u001b[38;5;16m\u001b[48;5;16m  \u001b[22;75H      \u001b[m\u001b[38;5;7m\u001b[48;5;16m\u001b[23;65H200 OK\u001b[m\u001b[38;5;16m\u001b[48;5;16m\u001b[23;75H      \u001b[24;64H \u001b[m\u001b[38;5;7m\u001b[48;5;16m20\u001b[24;68H OK\u001b[m\u001b[38;5;16m\u001b[48;5;16m   \u001b[24;75H      \u001b[m\u001b[38;5;7m\u001b[48;5;16m\u001b[12;50H5\u001b[17;13H73b061c43978\u001b[17;26Haef7816406444db653801e\u001b[17;49H20fca20c5\u001b[17;59H576f9\u001b[m\u001b[38;5;16m\u001b[48;5;16m\u001b[17;65H                \u001b[m\u001b[38;5;7m\u001b[48;5;16m\u001b[18;1HGET\u001b[m\u001b[38;5;16m\u001b[48;5;16m \u001b[m\u001b[38;5;7m\u001b[48;5;16m\u001b[18;7Hmedi\u001b[18;12H/b4218b80869cf2fc99d2e398285f322e65bfcf59b856f87c331\u001b[m\u001b[38;5;6m\u001b[48;5;16m\u001b[18;65H304 Not Modified\u001b[m\u001b[38;5;7m\u001b[48;5;16m\u001b[19;2HOST\u001b[m\u001b[38;5;16m\u001b[48;5;16m\u001b[19;18H                                              \u001b[m\u001b[38;5;7m\u001b[48;5;16m\u001b[21;1HPU\u001b[21;7Huplo\u001b[21;12Hd_file/c43c0c3e-3c9a-40ce-bcae-9c49e5e25a3a/16929282\u001b[22;13Hcca2ddf25310b417d658131d87b901b\u001b[22;45Heec72e6f2cbccc5b914\u001b[23;1HGET\u001b[m\u001b[38;5;16m\u001b[48;5;16m \u001b[m\u001b[38;5;7m\u001b[48;5;16m\u001b[23;7Hmedi\u001b[23;12H/8d093a90383e730e2eb7475aaa708c99bc2603b6fbfffbdf540\u001b[24;2HOST\u001b[m\u001b[38;5;16m\u001b[48;5;16m\u001b[24;18H                                              \u001b[m\u001b[38;5;6m\u001b[48;5;16m\u001b[17;65H304 Not Modified\u001b[m\u001b[38;5;7m\u001b[48;5;16m\u001b[12;50H4\u001b[12;50H3\u001b[12;50H2\u001b[12;50H1\u001b[12;50H0\u001b[12;32H6\u001b[12;39H2\u001b[12;63H153.45\u001b[12;71H558\u001b[12;75H82\u001b[12;50H2\u001b[12;32H7\u001b[12;39H1\u001b[12;63H300\u001b[12;67H0\u001b[12;71H495\u001b[12;75H38\u001b[12;50H3\u001b[12;50H2\u001b[12;50H1\u001b[12;50H0\u001b[12;58H0"
     ]
    }
   ],
   "source": [
    "from pyngrok import ngrok\n",
    "\n",
    "!ngrok http 8528"
   ]
  },
  {
   "cell_type": "code",
   "execution_count": 64,
   "metadata": {},
   "outputs": [
    {
     "name": "stdout",
     "output_type": "stream",
     "text": [
      "0.3847488\n"
     ]
    }
   ],
   "source": [
    "image = Image.open(\"good.png\")\n",
    "\n",
    "\n",
    "image = image.convert(\"RGB\")\n",
    "image = np.asarray(image, dtype=np.float32) / 255\n",
    "image = image[:, :, :3]\n",
    "image = cv2.resize(image, (128, 128))\n",
    "\n",
    "res = model.predict(np.array([image]))\n",
    "print(res[0][0])\n",
    "label =np.argmax(res,axis=1)\n",
    "st.write(classes[label[0]]) "
   ]
  },
  {
   "cell_type": "code",
   "execution_count": 66,
   "metadata": {},
   "outputs": [],
   "source": [
    "import pickle\n",
    "\n",
    "with open('hist.pkl','rb') as f:\n",
    "     x = pickle.load(f)\n",
    "p = res[0][0]\n",
    "sns.distplot(x, hist = False, kde = True,\n",
    "                 kde_kws = {'linewidth': 3},\n",
    "                 label = \"likelihood for dementia\")\n",
    "plt.axvline(p, 0,5)\n",
    "plt.text(p, 5, 'your score')\n",
    "st.pyplot()"
   ]
  },
  {
   "cell_type": "code",
   "execution_count": 71,
   "metadata": {},
   "outputs": [
    {
     "data": {
      "image/png": "[encoded data removed]",
      "text/plain": [
       "<Figure size 432x288 with 1 Axes>"
      ]
     },
     "metadata": {
      "needs_background": "light"
     },
     "output_type": "display_data"
    }
   ],
   "source": [
    "import matplotlib.pyplot as plt\n",
    "\n",
    "plt.hist(x, bins = 100)\n",
    "plt.show()"
   ]
  },
  {
   "cell_type": "code",
   "execution_count": 86,
   "metadata": {},
   "outputs": [
    {
     "data": {
      "text/plain": [
       "Text(1, 5, 'your score')"
      ]
     },
     "execution_count": 86,
     "metadata": {},
     "output_type": "execute_result"
    },
    {
     "data": {
      "image/png": "[encoded data removed]",
      "text/plain": [
       "<Figure size 432x288 with 1 Axes>"
      ]
     },
     "metadata": {
      "needs_background": "light"
     },
     "output_type": "display_data"
    }
   ],
   "source": [
    "import seaborn as sns\n",
    "p = 1\n",
    "fig, ax = plt.subplots()\n",
    "ax=sns.distplot(x, hist = False, kde = True,\n",
    "                 kde_kws = {'linewidth': 3},\n",
    "                 label = \"likelihood for dementia\")\n",
    "ax.axvline(p, 0,5)\n",
    "ax.text(p, 5, 'your score')\n",
    "# st.pyplot()"
   ]
  },
  {
   "cell_type": "code",
   "execution_count": null,
   "metadata": {},
   "outputs": [],
   "source": []
  }
 ],
 "metadata": {
  "accelerator": "GPU",
  "colab": {
   "name": "Image Classification Web App.ipynb",
   "provenance": []
  },
  "kernelspec": {
   "display_name": "Python 3",
   "language": "python",
   "name": "python3"
  },
  "language_info": {
   "codemirror_mode": {
    "name": "ipython",
    "version": 3
   },
   "file_extension": ".py",
   "mimetype": "text/x-python",
   "name": "python",
   "nbconvert_exporter": "python",
   "pygments_lexer": "ipython3",
   "version": "3.7.5"
  }
 },
 "nbformat": 4,
 "nbformat_minor": 1
}
