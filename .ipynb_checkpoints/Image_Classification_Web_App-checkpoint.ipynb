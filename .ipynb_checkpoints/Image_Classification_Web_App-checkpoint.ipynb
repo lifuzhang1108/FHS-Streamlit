{
 "cells": [
  {
   "cell_type": "markdown",
   "metadata": {
    "id": "tHxbCcQYO1-s"
   },
   "source": [
    "This video is supporting code for my video - https://youtu.be/AIDo3GO9t5A"
   ]
  },
  {
   "cell_type": "code",
   "execution_count": 1,
   "metadata": {
    "colab": {
     "base_uri": "https://localhost:8080/",
     "height": 690
    },
    "id": "j5C8c_IfYHfH",
    "outputId": "04681d81-1cdd-454a-c2b5-6615691b2597"
   },
   "outputs": [
    {
     "name": "stdout",
     "output_type": "stream",
     "text": [
      "Collecting ipykernel\n",
      "  Downloading ipykernel-5.4.3-py3-none-any.whl (120 kB)\n",
      "\u001b[K     |████████████████████████████████| 120 kB 5.0 MB/s eta 0:00:01\n",
      "\u001b[?25hRequirement already satisfied, skipping upgrade: appnope; platform_system == \"Darwin\" in /Users/alexzhang/anaconda3/lib/python3.7/site-packages (from ipykernel) (0.1.0)\n",
      "Requirement already satisfied, skipping upgrade: traitlets>=4.1.0 in /Users/alexzhang/anaconda3/lib/python3.7/site-packages (from ipykernel) (4.3.3)\n",
      "Requirement already satisfied, skipping upgrade: tornado>=4.2 in /Users/alexzhang/anaconda3/lib/python3.7/site-packages (from ipykernel) (6.0.3)\n",
      "Requirement already satisfied, skipping upgrade: ipython>=5.0.0 in /Users/alexzhang/anaconda3/lib/python3.7/site-packages (from ipykernel) (7.9.0)\n",
      "Requirement already satisfied, skipping upgrade: jupyter-client in /Users/alexzhang/anaconda3/lib/python3.7/site-packages (from ipykernel) (5.3.4)\n",
      "Requirement already satisfied, skipping upgrade: decorator in /Users/alexzhang/anaconda3/lib/python3.7/site-packages (from traitlets>=4.1.0->ipykernel) (4.4.1)\n",
      "Requirement already satisfied, skipping upgrade: ipython-genutils in /Users/alexzhang/anaconda3/lib/python3.7/site-packages (from traitlets>=4.1.0->ipykernel) (0.2.0)\n",
      "Requirement already satisfied, skipping upgrade: six in /Users/alexzhang/anaconda3/lib/python3.7/site-packages (from traitlets>=4.1.0->ipykernel) (1.13.0)\n",
      "Requirement already satisfied, skipping upgrade: jedi>=0.10 in /Users/alexzhang/anaconda3/lib/python3.7/site-packages (from ipython>=5.0.0->ipykernel) (0.15.1)\n",
      "Requirement already satisfied, skipping upgrade: pexpect; sys_platform != \"win32\" in /Users/alexzhang/anaconda3/lib/python3.7/site-packages (from ipython>=5.0.0->ipykernel) (4.7.0)\n",
      "Requirement already satisfied, skipping upgrade: prompt-toolkit<2.1.0,>=2.0.0 in /Users/alexzhang/anaconda3/lib/python3.7/site-packages (from ipython>=5.0.0->ipykernel) (2.0.10)\n",
      "Requirement already satisfied, skipping upgrade: pickleshare in /Users/alexzhang/anaconda3/lib/python3.7/site-packages (from ipython>=5.0.0->ipykernel) (0.7.5)\n",
      "Requirement already satisfied, skipping upgrade: pygments in /Users/alexzhang/anaconda3/lib/python3.7/site-packages (from ipython>=5.0.0->ipykernel) (2.4.2)\n",
      "Requirement already satisfied, skipping upgrade: backcall in /Users/alexzhang/anaconda3/lib/python3.7/site-packages (from ipython>=5.0.0->ipykernel) (0.1.0)\n",
      "Requirement already satisfied, skipping upgrade: setuptools>=18.5 in /Users/alexzhang/anaconda3/lib/python3.7/site-packages (from ipython>=5.0.0->ipykernel) (46.1.3)\n",
      "Requirement already satisfied, skipping upgrade: jupyter-core>=4.6.0 in /Users/alexzhang/anaconda3/lib/python3.7/site-packages (from jupyter-client->ipykernel) (4.6.1)\n",
      "Requirement already satisfied, skipping upgrade: python-dateutil>=2.1 in /Users/alexzhang/anaconda3/lib/python3.7/site-packages (from jupyter-client->ipykernel) (2.8.1)\n",
      "Requirement already satisfied, skipping upgrade: pyzmq>=13 in /Users/alexzhang/anaconda3/lib/python3.7/site-packages (from jupyter-client->ipykernel) (18.1.0)\n",
      "Requirement already satisfied, skipping upgrade: parso>=0.5.0 in /Users/alexzhang/anaconda3/lib/python3.7/site-packages (from jedi>=0.10->ipython>=5.0.0->ipykernel) (0.5.1)\n",
      "Requirement already satisfied, skipping upgrade: ptyprocess>=0.5 in /Users/alexzhang/anaconda3/lib/python3.7/site-packages (from pexpect; sys_platform != \"win32\"->ipython>=5.0.0->ipykernel) (0.6.0)\n",
      "Requirement already satisfied, skipping upgrade: wcwidth in /Users/alexzhang/anaconda3/lib/python3.7/site-packages (from prompt-toolkit<2.1.0,>=2.0.0->ipython>=5.0.0->ipykernel) (0.1.7)\n",
      "Installing collected packages: ipykernel\n",
      "  Attempting uninstall: ipykernel\n",
      "    Found existing installation: ipykernel 5.1.3\n",
      "    Uninstalling ipykernel-5.1.3:\n",
      "      Successfully uninstalled ipykernel-5.1.3\n",
      "Successfully installed ipykernel-5.4.3\n",
      "\u001b[33mWARNING: You are using pip version 20.0.2; however, version 20.3.3 is available.\n",
      "You should consider upgrading via the '/Users/alexzhang/anaconda3/bin/python -m pip install --upgrade pip' command.\u001b[0m\n"
     ]
    }
   ],
   "source": [
    "!pip install -U ipykernel"
   ]
  },
  {
   "cell_type": "code",
   "execution_count": 2,
   "metadata": {
    "colab": {
     "base_uri": "https://localhost:8080/",
     "height": 163
    },
    "id": "uxclE-m8LZa6",
    "outputId": "319bd314-7215-4651-958b-841a62886671"
   },
   "outputs": [
    {
     "name": "stdout",
     "output_type": "stream",
     "text": [
      "\u001b[33mWARNING: You are using pip version 20.0.2; however, version 20.3.3 is available.\r\n",
      "You should consider upgrading via the '/Users/alexzhang/anaconda3/bin/python -m pip install --upgrade pip' command.\u001b[0m\r\n"
     ]
    }
   ],
   "source": [
    "!pip install -q streamlit"
   ]
  },
  {
   "cell_type": "code",
   "execution_count": 3,
   "metadata": {
    "colab": {
     "base_uri": "https://localhost:8080/",
     "height": 237
    },
    "id": "a3gBR5EsiIa7",
    "outputId": "4e180790-d975-4fab-d05b-d8bffeb27f59"
   },
   "outputs": [
    {
     "name": "stdout",
     "output_type": "stream",
     "text": [
      "Collecting pyngrok\n",
      "  Downloading pyngrok-5.0.1.tar.gz (21 kB)\n",
      "Requirement already satisfied: PyYAML in /Users/alexzhang/anaconda3/lib/python3.7/site-packages (from pyngrok) (5.3.1)\n",
      "Building wheels for collected packages: pyngrok\n",
      "  Building wheel for pyngrok (setup.py) ... \u001b[?25ldone\n",
      "\u001b[?25h  Created wheel for pyngrok: filename=pyngrok-5.0.1-py3-none-any.whl size=18821 sha256=76c3a30fcd55a21a38fe581c822e39007ad20b3fc0f6287adef3c491ef707e8b\n",
      "  Stored in directory: /Users/alexzhang/Library/Caches/pip/wheels/82/2e/9f/ae3648af93b41713a9fff31c435ef69376eebf47e8dc5db752\n",
      "Successfully built pyngrok\n",
      "Installing collected packages: pyngrok\n",
      "Successfully installed pyngrok-5.0.1\n",
      "\u001b[33mWARNING: You are using pip version 20.0.2; however, version 20.3.3 is available.\n",
      "You should consider upgrading via the '/Users/alexzhang/anaconda3/bin/python -m pip install --upgrade pip' command.\u001b[0m\n"
     ]
    }
   ],
   "source": [
    "!pip install pyngrok"
   ]
  },
  {
   "cell_type": "markdown",
   "metadata": {
    "id": "xEjZmh1V078P"
   },
   "source": [
    "Update the token below from creating an account in ngrok website\n",
    "\n",
    "You can ignore Ngrok step completely if you are not looking to expose your app to internet\n",
    "\n"
   ]
  },
  {
   "cell_type": "code",
   "execution_count": 4,
   "metadata": {
    "cellView": "both",
    "colab": {
     "base_uri": "https://localhost:8080/",
     "height": 35
    },
    "id": "YjoAEsIEh-oZ",
    "outputId": "d3b5a7b4-1499-44c5-f590-0a2afa27ffa8"
   },
   "outputs": [
    {
     "name": "stdout",
     "output_type": "stream",
     "text": [
      "Authtoken saved to configuration file: /Users/alexzhang/.ngrok2/ngrok.yml                           \n"
     ]
    }
   ],
   "source": [
    "!ngrok authtoken 1n7R0cFLO5VBmFJkuUw8wR63Goa_Q63ZfTeNJPbckzXv5BVV"
   ]
  },
  {
   "cell_type": "code",
   "execution_count": 88,
   "metadata": {
    "colab": {
     "base_uri": "https://localhost:8080/",
     "height": 35
    },
    "id": "RuNpGDdZY3WW",
    "outputId": "8873ea48-b853-468f-fef5-caffac20fac9"
   },
   "outputs": [
    {
     "name": "stdout",
     "output_type": "stream",
     "text": [
      "Overwriting score.py\n"
     ]
    }
   ],
   "source": [
    "%%writefile score.py\n",
    "import pickle\n",
    "import cv2 \n",
    "import tensorflow as tf\n",
    "import numpy as np\n",
    "import streamlit as st\n",
    "from PIL import Image\n",
    "import requests\n",
    "from io import BytesIO\n",
    "import os\n",
    "import seaborn as sns\n",
    "import matplotlib.pyplot as plt\n",
    "st.set_option('deprecation.showfileUploaderEncoding', False)\n",
    "st.title(\"Clock Image Classifier\")\n",
    "st.text(\"select clock Image for classification\")\n",
    "hide_streamlit_style = \"\"\"\n",
    "            <style>\n",
    "            #MainMenu {visibility: hidden;}\n",
    "            footer {visibility: hidden;}\n",
    "            </style>\n",
    "            \"\"\"\n",
    "st.markdown(hide_streamlit_style, unsafe_allow_html=True) \n",
    "@st.cache(allow_output_mutation=True)\n",
    "def load_model():\n",
    "  model = tf.keras.models.load_model('./')\n",
    "  return model\n",
    "\n",
    "with st.spinner('Loading Model Into Memory....'):\n",
    "  model = load_model()\n",
    "\n",
    "classes=['demented','normal']\n",
    "\n",
    "def scale(image):\n",
    "  image = tf.cast(image, tf.float32)\n",
    "  image /= 255.0\n",
    "\n",
    "  return tf.image.resize(image,[128,128])\n",
    "\n",
    "def decode_img(image):\n",
    "  img = tf.image.decode_jpeg(image, channels=3)\n",
    "  img = scale(img)\n",
    "  return np.expand_dims(img, axis=0)\n",
    "\n",
    "\n",
    "\n",
    "st.title(\"Upload + Classification Example\")\n",
    "types= [\"png\",\"jpg\"]\n",
    "uploaded_file = st.file_uploader(\"Choose an image...\", type=types )\n",
    "if uploaded_file is not None:\n",
    "    image = Image.open(uploaded_file)\n",
    "    st.image(image, caption='Uploaded Image.', use_column_width=True)\n",
    "    \n",
    "\n",
    "    image = image.convert(\"RGB\")\n",
    "    image = np.asarray(image, dtype=np.float32) / 255\n",
    "    image = image[:, :, :3]\n",
    "    image = cv2.resize(image, (128, 128))\n",
    "    \n",
    "    st.write(\"\")\n",
    "    st.write(\"Classifying...\")\n",
    "    res = model.predict(np.array([image]))\n",
    "    st.write(\"likelihood for dementia:\") \n",
    "    st.write(res[0][0]) \n",
    "    label =np.argmax(res,axis=1)\n",
    "#     st.write(classes[label[0]]) \n",
    "    \n",
    "    with open('hist.pkl','rb') as f:\n",
    "         x = pickle.load(f)\n",
    "    p = res[0][0]\n",
    "    fig, ax = plt.subplots()\n",
    "    ax=sns.distplot(x, hist = False, kde = True,\n",
    "                     kde_kws = {'linewidth': 3},\n",
    "                     label = \"likelihood for dementia\")\n",
    "    ax.axvline(p, 0,5)\n",
    "    ax.text(p, 5, 'your score')\n",
    "    st.pyplot(fig)"
   ]
  },
  {
   "cell_type": "code",
   "execution_count": null,
   "metadata": {},
   "outputs": [],
   "source": [
    "!nohup streamlit run score.py &"
   ]
  },
  {
   "cell_type": "code",
   "execution_count": null,
   "metadata": {
    "colab": {
     "base_uri": "https://localhost:8080/",
     "height": 35
    },
    "id": "YB0kwgXqhdeo",
    "outputId": "3d9af946-1d73-4048-bbc1-02cc5bcc775e"
   },
   "outputs": [
    {
     "data": {
      "application/vnd.google.colaboratory.intrinsic+json": {
       "type": "string"
      },
      "text/plain": [
       "'http://a9a13001a9f3.ngrok.io'"
      ]
     },
     "execution_count": 7,
     "metadata": {
      "tags": []
     },
     "output_type": "execute_result"
    }
   ],
   "source": [
    "from pyngrok import ngrok\n",
    "\n",
    "url = ngrok.connect(port=8501)\n",
    "url"
   ]
  },
  {
   "cell_type": "code",
   "execution_count": 64,
   "metadata": {},
   "outputs": [
    {
     "name": "stdout",
     "output_type": "stream",
     "text": [
      "0.3847488\n"
     ]
    }
   ],
   "source": [
    "image = Image.open(\"good.png\")\n",
    "\n",
    "\n",
    "image = image.convert(\"RGB\")\n",
    "image = np.asarray(image, dtype=np.float32) / 255\n",
    "image = image[:, :, :3]\n",
    "image = cv2.resize(image, (128, 128))\n",
    "\n",
    "res = model.predict(np.array([image]))\n",
    "print(res[0][0])\n",
    "label =np.argmax(res,axis=1)\n",
    "st.write(classes[label[0]]) "
   ]
  },
  {
   "cell_type": "code",
   "execution_count": 66,
   "metadata": {},
   "outputs": [],
   "source": [
    "import pickle\n",
    "\n",
    "with open('hist.pkl','rb') as f:\n",
    "     x = pickle.load(f)\n",
    "p = res[0][0]\n",
    "sns.distplot(x, hist = False, kde = True,\n",
    "                 kde_kws = {'linewidth': 3},\n",
    "                 label = \"likelihood for dementia\")\n",
    "plt.axvline(p, 0,5)\n",
    "plt.text(p, 5, 'your score')\n",
    "st.pyplot()"
   ]
  },
  {
   "cell_type": "code",
   "execution_count": 71,
   "metadata": {},
   "outputs": [
    {
     "data": {
      "image/png": "[encoded data removed]",
      "text/plain": [
       "<Figure size 432x288 with 1 Axes>"
      ]
     },
     "metadata": {
      "needs_background": "light"
     },
     "output_type": "display_data"
    }
   ],
   "source": [
    "import matplotlib.pyplot as plt\n",
    "\n",
    "plt.hist(x, bins = 100)\n",
    "plt.show()"
   ]
  },
  {
   "cell_type": "code",
   "execution_count": 86,
   "metadata": {},
   "outputs": [
    {
     "data": {
      "text/plain": [
       "Text(1, 5, 'your score')"
      ]
     },
     "execution_count": 86,
     "metadata": {},
     "output_type": "execute_result"
    },
    {
     "data": {
      "image/png": "[encoded data removed]",
      "text/plain": [
       "<Figure size 432x288 with 1 Axes>"
      ]
     },
     "metadata": {
      "needs_background": "light"
     },
     "output_type": "display_data"
    }
   ],
   "source": [
    "import seaborn as sns\n",
    "p = 1\n",
    "fig, ax = plt.subplots()\n",
    "ax=sns.distplot(x, hist = False, kde = True,\n",
    "                 kde_kws = {'linewidth': 3},\n",
    "                 label = \"likelihood for dementia\")\n",
    "ax.axvline(p, 0,5)\n",
    "ax.text(p, 5, 'your score')\n",
    "# st.pyplot()"
   ]
  },
  {
   "cell_type": "code",
   "execution_count": null,
   "metadata": {},
   "outputs": [],
   "source": []
  }
 ],
 "metadata": {
  "accelerator": "GPU",
  "colab": {
   "name": "Image Classification Web App.ipynb",
   "provenance": []
  },
  "kernelspec": {
   "display_name": "Python 3",
   "language": "python",
   "name": "python3"
  },
  "language_info": {
   "codemirror_mode": {
    "name": "ipython",
    "version": 3
   },
   "file_extension": ".py",
   "mimetype": "text/x-python",
   "name": "python",
   "nbconvert_exporter": "python",
   "pygments_lexer": "ipython3",
   "version": "3.7.5"
  }
 },
 "nbformat": 4,
 "nbformat_minor": 1
}
